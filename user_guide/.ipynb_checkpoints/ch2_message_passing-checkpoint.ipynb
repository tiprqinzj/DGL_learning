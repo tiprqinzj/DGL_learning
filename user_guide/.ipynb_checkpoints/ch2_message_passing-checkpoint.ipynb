{
 "cells": [
  {
   "cell_type": "markdown",
   "id": "41379555",
   "metadata": {},
   "source": [
    "# Chapter 2: Message Passing"
   ]
  },
  {
   "cell_type": "markdown",
   "id": "dbf54547",
   "metadata": {},
   "source": [
    "## 2.1 Built-in Functions and Message Passing APIs\n",
    "\n",
    "**message function** takes a single argument `edges`, which is an `EdgeBatch` instance. During message passing, DGL generates it internally to represent a batch of edges. It has three members `src`, `dst`, and `data` to access features of source nodes, destination nodes, and edges, respectively.  \n",
    "\n",
    "**reduce function** takes a single argument `nodes`, which is an `NodeBatch` instance. During message passing, DGL generates it internally to represent a batch of nodes. It has member `mailbox` to access the messages received for the nodes in the batch. Some of the most common reduce operations include `sum`, `max`, `min`, `mean`.  \n",
    "\n",
    "**update function** takes a single argument `nodes`. This function operates on the aggregation result from `reduce function`, typically combining it with a node's original feature at the last step and saving the result as a node feature.  \n",
    "\n",
    "DGL has implemented commonly used message functions and reduce functions as **built-in** in the namespace `dgl.function`. In general, DGL suggests using build-in functions **whenever possible** since they are heavily optimized and automatically handle dimension broadcasting."
   ]
  },
  {
   "cell_type": "markdown",
   "id": "67e3ccf3",
   "metadata": {},
   "source": [
    "### Example\n",
    "\n",
    "`dgl.function.u_add_v('hu', 'hv', 'he')` means to add the `hu` feature from src nodes and `hv` feature from dst nodes then save the result on the edge at `he` field.  \n",
    "This is equivalent to the Message UDF below:\n",
    "```\n",
    "def message_func(edges):\n",
    "    return {'he': edges.src['hu'] + edges.dst['hv']}\n",
    "```"
   ]
  },
  {
   "cell_type": "code",
   "execution_count": null,
   "id": "a87c7654",
   "metadata": {},
   "outputs": [],
   "source": []
  }
 ],
 "metadata": {
  "kernelspec": {
   "display_name": "Python 3 (ipykernel)",
   "language": "python",
   "name": "python3"
  },
  "language_info": {
   "codemirror_mode": {
    "name": "ipython",
    "version": 3
   },
   "file_extension": ".py",
   "mimetype": "text/x-python",
   "name": "python",
   "nbconvert_exporter": "python",
   "pygments_lexer": "ipython3",
   "version": "3.9.18"
  }
 },
 "nbformat": 4,
 "nbformat_minor": 5
}
