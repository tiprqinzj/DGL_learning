{
 "cells": [
  {
   "cell_type": "markdown",
   "id": "14434623",
   "metadata": {},
   "source": [
    "# Chapter 1: Graph\n",
    "\n",
    "DGL provides a graph-centric programming abstraction with its core data structure `DGLGraph`"
   ]
  },
  {
   "cell_type": "markdown",
   "id": "ddcb1e9a",
   "metadata": {},
   "source": [
    "## 1.1 Some Basic Definitions about Graphs\n",
    "\n",
    "A graph G = (V, E), consists of two sets (the set of nodes V and the set of edges E).  \n",
    "An edge (u, v) connecting a pair of nodes u and v indicates that there is a relation between them.  \n",
    "The relation can either be undirected or directed, thus a graph can be directed or undirected.  \n",
    "  \n",
    "Graphs can be weighted or unweighted. In a weighted graph, each edge is associated with a scaler weight.  \n",
    "  \n",
    "Graphs can also be either homogeneous or heterogeneous.\n",
    " - For the former, all nodes represent instances of the same type and all the edges represent relations of the same type. E.g., a social network.\n",
    " - For the latter, the nodes and edges can be of different types."
   ]
  },
  {
   "cell_type": "markdown",
   "id": "7d41d917",
   "metadata": {},
   "source": [
    "## 1.2 Graphs, Nodes, and Edges\n",
    "\n",
    "DGL represents each node by a **unique interger**, called its **node ID**, and each edge by **a pair of intergers** correponding to the **IDs of its end nodes**.  \n",
    "DGL assigns to each edge a unique interger, called its **edge ID**, based on the order in which it was added to the graph.  \n",
    "The numbering of node and edge IDs starts from 0.  \n",
    "All edges are directed in DGL.  \n",
    "  \n",
    "Use a 1-D interger tensor of node IDs to specify multiple nodes.  \n",
    "Use a tuple of node-tensors (U, V) to specify nultiple edges.  \n",
    "  \n",
    "Use the `dgl.graph()` method to create a `DGLGraph`.\n",
    "\n",
    "Use `dgl.to_bidirected()` to obtain an undirected graph"
   ]
  },
  {
   "cell_type": "code",
   "execution_count": 1,
   "id": "b748134d",
   "metadata": {},
   "outputs": [
    {
     "name": "stdout",
     "output_type": "stream",
     "text": [
      "Graph(num_nodes=4, num_edges=4,\n",
      "      ndata_schemes={}\n",
      "      edata_schemes={})\n"
     ]
    }
   ],
   "source": [
    "import dgl\n",
    "import torch as th\n",
    "\n",
    "u, v = th.tensor([0, 0, 0, 1]), th.tensor([1, 2, 3, 3])\n",
    "g = dgl.graph((u, v))\n",
    "print(g)"
   ]
  },
  {
   "cell_type": "code",
   "execution_count": 2,
   "id": "37cea9ba",
   "metadata": {},
   "outputs": [
    {
     "name": "stdout",
     "output_type": "stream",
     "text": [
      "tensor([0, 1, 2, 3])\n",
      "(tensor([0, 0, 0, 1]), tensor([1, 2, 3, 3]))\n"
     ]
    }
   ],
   "source": [
    "print(g.nodes()) # node IDs\n",
    "print(g.edges()) # edge IDs"
   ]
  },
  {
   "cell_type": "code",
   "execution_count": 3,
   "id": "ceb93f73",
   "metadata": {},
   "outputs": [
    {
     "name": "stdout",
     "output_type": "stream",
     "text": [
      "(tensor([0, 0, 0, 1, 1, 2, 3, 3]), tensor([1, 2, 3, 0, 3, 0, 0, 1]))\n"
     ]
    }
   ],
   "source": [
    "bg = dgl.to_bidirected(g)\n",
    "print(bg.edges())"
   ]
  },
  {
   "cell_type": "markdown",
   "id": "8e80bf85",
   "metadata": {},
   "source": [
    "DGL can use either **32**- or **64**-bit intergers to store the node and edge IDs.  \n",
    "The data types for the node and edge IDs should be same.  \n",
    "Use 32-bit intergers as it leads to better speed and requires less memory."
   ]
  },
  {
   "cell_type": "code",
   "execution_count": 4,
   "id": "aa0d309e",
   "metadata": {},
   "outputs": [
    {
     "name": "stdout",
     "output_type": "stream",
     "text": [
      "torch.int64\n"
     ]
    }
   ],
   "source": [
    "# Conversions\n",
    "edges = th.tensor([2, 5, 3]), th.tensor([3, 5, 0])\n",
    "g64 = dgl.graph(edges)\n",
    "print(g64.idtype)"
   ]
  },
  {
   "cell_type": "code",
   "execution_count": 5,
   "id": "dd50f9a6",
   "metadata": {},
   "outputs": [
    {
     "name": "stdout",
     "output_type": "stream",
     "text": [
      "torch.int32\n"
     ]
    }
   ],
   "source": [
    "# create a int32 graph\n",
    "g32 = dgl.graph(edges, idtype=th.int32)\n",
    "print(g32.idtype)"
   ]
  },
  {
   "cell_type": "code",
   "execution_count": 6,
   "id": "3e8ddfdd",
   "metadata": {},
   "outputs": [
    {
     "name": "stdout",
     "output_type": "stream",
     "text": [
      "torch.int64\n",
      "torch.int32\n"
     ]
    }
   ],
   "source": [
    "# convert int64 <-> int32\n",
    "g64_2 = g32.long() # convert to int64\n",
    "g32_2 = g64.int() # conver to int32\n",
    "print(g64_2.idtype)\n",
    "print(g32_2.idtype)"
   ]
  },
  {
   "cell_type": "markdown",
   "id": "4b83bb66",
   "metadata": {},
   "source": [
    "## 1.3 Node and Edge Features\n",
    "\n",
    "A `DGLGraph` can have several user-defined named features for storing properties of the nodes and edges.  \n",
    "The features can be accessed via `ndata` and `edata` interface.  \n",
    "Different names can have different shapes"
   ]
  },
  {
   "cell_type": "code",
   "execution_count": 7,
   "id": "fc3ce316",
   "metadata": {},
   "outputs": [
    {
     "name": "stdout",
     "output_type": "stream",
     "text": [
      "Graph(num_nodes=6, num_edges=4,\n",
      "      ndata_schemes={}\n",
      "      edata_schemes={})\n"
     ]
    }
   ],
   "source": [
    "g = dgl.graph(([0, 0, 1, 5], [1, 2, 2, 0])) # 6 nodes, 4 edges\n",
    "print(g)"
   ]
  },
  {
   "cell_type": "code",
   "execution_count": 8,
   "id": "03b7facb",
   "metadata": {},
   "outputs": [
    {
     "name": "stdout",
     "output_type": "stream",
     "text": [
      "Graph(num_nodes=6, num_edges=4,\n",
      "      ndata_schemes={'x': Scheme(shape=(3,), dtype=torch.float32)}\n",
      "      edata_schemes={'x': Scheme(shape=(), dtype=torch.int32)})\n"
     ]
    }
   ],
   "source": [
    "g.ndata['x'] = th.ones(g.num_nodes(), 3) # node feature of length 3\n",
    "g.edata['x'] = th.ones(g.num_edges(), dtype=th.int32)\n",
    "print(g)"
   ]
  },
  {
   "cell_type": "code",
   "execution_count": 9,
   "id": "d91d9989",
   "metadata": {},
   "outputs": [],
   "source": [
    "g.ndata['y'] = th.randn(g.num_nodes(), 5)"
   ]
  },
  {
   "cell_type": "code",
   "execution_count": 10,
   "id": "b0e455e0",
   "metadata": {},
   "outputs": [
    {
     "name": "stdout",
     "output_type": "stream",
     "text": [
      "tensor([1., 1., 1.])\n",
      "tensor([1, 1], dtype=torch.int32)\n"
     ]
    }
   ],
   "source": [
    "print(g.ndata['x'][1])\n",
    "print(g.edata['x'][th.tensor([0, 3])]) # get features of edge 0 and 3"
   ]
  },
  {
   "cell_type": "markdown",
   "id": "ff4b9cf5",
   "metadata": {},
   "source": [
    "Important facts about the `ndata`/`edata` interface:\n",
    " - only **numerical types** (float, double, int) are allowed, can be **scalars (标量), vectors or multu-dimensional tensors**\n",
    " - each node feature has a unique name, each edge feature has a unique name; the features of nodes and edges can have the same name\n",
    " - a feature is created by **tensor assignment**; the **leading dimension** of that tensor **must be equal to** the number of nodes/edges in the graph; **cannot** assign a feature to a **subset** of the nodes/edges\n",
    " - features of the **same name** must have the **same dimensionality and data type**"
   ]
  },
  {
   "cell_type": "code",
   "execution_count": 11,
   "id": "6b34934a",
   "metadata": {},
   "outputs": [
    {
     "name": "stdout",
     "output_type": "stream",
     "text": [
      "Graph(num_nodes=4, num_edges=4,\n",
      "      ndata_schemes={}\n",
      "      edata_schemes={'w': Scheme(shape=(), dtype=torch.float32)})\n"
     ]
    }
   ],
   "source": [
    "# For weighted graphs\n",
    "edges = th.tensor([0, 0, 0, 1]), th.tensor([1, 2, 3, 3])\n",
    "weights = th.tensor([0.1, 0.6, 0.9, 0.7]) # weight of each edge\n",
    "g = dgl.graph(edges)\n",
    "g.edata['w'] = weights\n",
    "print(g)"
   ]
  },
  {
   "cell_type": "code",
   "execution_count": null,
   "id": "ab478563",
   "metadata": {},
   "outputs": [],
   "source": []
  }
 ],
 "metadata": {
  "kernelspec": {
   "display_name": "Python 3 (ipykernel)",
   "language": "python",
   "name": "python3"
  },
  "language_info": {
   "codemirror_mode": {
    "name": "ipython",
    "version": 3
   },
   "file_extension": ".py",
   "mimetype": "text/x-python",
   "name": "python",
   "nbconvert_exporter": "python",
   "pygments_lexer": "ipython3",
   "version": "3.9.18"
  }
 },
 "nbformat": 4,
 "nbformat_minor": 5
}
