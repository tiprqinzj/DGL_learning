{
 "cells": [
  {
   "cell_type": "markdown",
   "id": "9ced890b",
   "metadata": {},
   "source": [
    "# Chapter 3: Building GNN Modules\n",
    "\n",
    "DGL NN module consists of **building blocks** for GNN models. An NN module **inherits** from Pytorch's NN Module.  \n",
    "\n",
    "This chapter takes `SAGEConv` with Pytorch backend as an example to introduce how to build a custom DGL NN Module."
   ]
  },
  {
   "cell_type": "markdown",
   "id": "707ac0ec",
   "metadata": {},
   "source": [
    "## 3.1 DGL NN Module Construction Function"
   ]
  },
  {
   "cell_type": "code",
   "execution_count": 1,
   "id": "4a5b586b",
   "metadata": {},
   "outputs": [],
   "source": [
    "import torch.nn as nn\n",
    "from dgl.utils import expand_as_pair"
   ]
  },
  {
   "cell_type": "markdown",
   "id": "0b32d98a",
   "metadata": {},
   "source": [
    "Construction function, one first needs to set the data dimensions. For graph neural networks, the **input dimension** can be split into source node dimension and destination node dimension.  \n",
    "\n",
    "Aggregation type determins how messages on different edges are aggregated for a certain destination node. Commonly used include `mean`, `sum`, `max`, `min`, or even complicated one `lstm`.\n",
    "\n",
    "`norm` here is a callable function for feature normalization."
   ]
  },
  {
   "cell_type": "markdown",
   "id": "f04dac92",
   "metadata": {},
   "source": [
    "## 3.2 DGL NN Module Forward Function\n",
    "\n",
    "In NN module, `forward()` function does the actual message passing and computation.  \n",
    "Compared with PyTorch's NN module which usually takes tensors as the parameters, DGL NN module takes an additional parameter `dgl.DGLGraph`.  \n",
    "\n",
    "The workload for `forward()` function can be split into three parts:\n",
    " - graph checking and graph type specification\n",
    " - message passing\n",
    " - feature update"
   ]
  },
  {
   "cell_type": "code",
   "execution_count": 6,
   "id": "91019e33",
   "metadata": {},
   "outputs": [],
   "source": [
    "class SAGEConv(nn.Module):\n",
    "    def __init__(self, in_feats, out_feats, aggregator_type, bias=True, norm=None, activation=None):\n",
    "        super(SAGEConv, self).__init__()\n",
    "        \n",
    "        self._in_src_feats, self._in_dst_feats = expand_as_pair(in_feats)\n",
    "        self._out_feats = out_feats\n",
    "        self._aggre_type = aggregator_type\n",
    "        self.norm = norm\n",
    "        self.activation = activation\n",
    "        \n",
    "        if aggregator_type not in ['mean', 'pool', 'lstm', 'gcn']:\n",
    "            raise KeyError('Aggregator type {} not supported.'.format(aggregator_type))\n",
    "        if aggregator_type == 'pool':\n",
    "            self.fc_pool = nn.Linear(self._in_src_feats, self._in_src_feats)\n",
    "        if aggregator_type == 'lstm':\n",
    "            self.lstm = nn.LSTM(self._in_src_feats, self._in_src_feats, batch_first=True)\n",
    "        if aggregator_type in ['mean', 'pool', 'lstm']:\n",
    "            self.fc_self = nn.Linear(self._in_src_feats, out_feats, bias=bias)\n",
    "        self.fc_neigh = nn.Linear(self._in_src_feats, out_feats, bias=bias)\n",
    "        self.reset_parameters()\n",
    "    \n",
    "    def reset_parameters(self):\n",
    "        gain = nn.init.calculate_gain('relu')\n",
    "        if self._aggre_type == 'pool':\n",
    "            nn.init.xavier_uniform_(self.fc_ppool.weight, gain=gain)\n",
    "        if self._aggre_type == 'lstm':\n",
    "            self.lstm.reset_parameters()\n",
    "        if self._aggre_type != 'gcn':\n",
    "            nn.init.xavier_uniform_(self.fc_self.weight, gain=gain)\n",
    "        nn.init,xavier_uniform_(self.fc_neigh.weight, gain=gain)\n",
    "        \n",
    "    def forward(self, graph, feat):\n",
    "        with graph.local_scope():\n",
    "            feat_src, feat_dst = expand_as_pair(feat, graph)"
   ]
  }
 ],
 "metadata": {
  "kernelspec": {
   "display_name": "Python 3 (ipykernel)",
   "language": "python",
   "name": "python3"
  },
  "language_info": {
   "codemirror_mode": {
    "name": "ipython",
    "version": 3
   },
   "file_extension": ".py",
   "mimetype": "text/x-python",
   "name": "python",
   "nbconvert_exporter": "python",
   "pygments_lexer": "ipython3",
   "version": "3.9.18"
  }
 },
 "nbformat": 4,
 "nbformat_minor": 5
}
