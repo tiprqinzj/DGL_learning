{
 "cells": [
  {
   "cell_type": "code",
   "execution_count": 1,
   "id": "2ba748f2",
   "metadata": {},
   "outputs": [],
   "source": [
    "import os\n",
    "import numpy as np\n",
    "import torch\n",
    "import torch.nn as nn\n",
    "\n",
    "from dgllife.model import load_pretrained\n",
    "from dgllife.utils import EarlyStopping, Meter, SMILESToBigraph\n",
    "from torch.optim import Adam\n",
    "from torch.utils.data import DataLoader\n",
    "\n",
    "from utils import collate_molgraphs, load_model, predict\n",
    "from utils import init_featurizer, mkdir_p, split_dataset, get_configure"
   ]
  },
  {
   "cell_type": "markdown",
   "id": "ab9b1e95",
   "metadata": {},
   "source": [
    "源码作者将输入参数存于 args 字典，并使用 init_featurizer 函数对参数进行解析。\n",
    "本例中仅仔细研究 GCN & canonical 方法的模型，其它模型可类比。"
   ]
  },
  {
   "cell_type": "code",
   "execution_count": 2,
   "id": "36690ff5",
   "metadata": {},
   "outputs": [],
   "source": [
    "from dgllife.utils import CanonicalAtomFeaturizer"
   ]
  },
  {
   "cell_type": "code",
   "execution_count": 3,
   "id": "a382e80c",
   "metadata": {},
   "outputs": [],
   "source": [
    "args = {\n",
    "    'dataset': 'BBBP',\n",
    "    'model': 'GCN',\n",
    "    'featurizer_type': 'canonical',\n",
    "    'pretrain': False,\n",
    "    'split': 'scaffold',\n",
    "    'split_ratio': '0.8,0.1,0.1',\n",
    "    'metric': 'roc_auc_score',\n",
    "    'num_epochs': 1000,\n",
    "    'num_workers': 0,\n",
    "    'print_every': 10,\n",
    "    'result_path': 'classification_results',\n",
    "    'device': torch.device('cpu'),\n",
    "    # add by init_featurizer\n",
    "    'node_featurizer': CanonicalAtomFeaturizer(),\n",
    "    'edge_featurizer': None,\n",
    "}"
   ]
  },
  {
   "cell_type": "code",
   "execution_count": 4,
   "id": "7d59e476",
   "metadata": {},
   "outputs": [],
   "source": [
    "# make dir\n",
    "if not os.path.exists(args['result_path']):\n",
    "    os.makedirs(args['result_path'])"
   ]
  },
  {
   "cell_type": "markdown",
   "id": "3b68e47d",
   "metadata": {},
   "source": [
    "SMILES to Graph：对 `SMILESToBigraph` 包装后，成为一个新的函数，主要给出节点和边的编码方法"
   ]
  },
  {
   "cell_type": "code",
   "execution_count": 5,
   "id": "dade3c3c",
   "metadata": {},
   "outputs": [],
   "source": [
    "from dgllife.data import BBBP\n",
    "\n",
    "smiles_to_g = SMILESToBigraph(add_self_loop=False, node_featurizer=args['node_featurizer'],\n",
    "                              edge_featurizer=args['edge_featurizer'])"
   ]
  },
  {
   "cell_type": "markdown",
   "id": "61efea60",
   "metadata": {},
   "source": [
    "解析 `SMILESToBigraph`\n",
    "- 将 SMILES 字符串转化为双向 `DGLGraphs` 对象并将其特征化\n",
    "- 原子有 74 个特征（待查看）"
   ]
  },
  {
   "cell_type": "code",
   "execution_count": 6,
   "id": "18e3caac",
   "metadata": {},
   "outputs": [
    {
     "name": "stdout",
     "output_type": "stream",
     "text": [
      "Graph(num_nodes=3, num_edges=4,\n",
      "      ndata_schemes={'atomic': Scheme(shape=(1,), dtype=torch.float32)}\n",
      "      edata_schemes={'type': Scheme(shape=(1,), dtype=torch.float32)})\n",
      "{'atomic': tensor([[6.],\n",
      "        [8.],\n",
      "        [6.]])}\n",
      "{'type': tensor([[0.],\n",
      "        [0.],\n",
      "        [0.],\n",
      "        [0.]])}\n"
     ]
    }
   ],
   "source": [
    "# 函数自带案例\n",
    "\n",
    "from rdkit import Chem\n",
    "\n",
    "def featurize_atoms(mol):\n",
    "    feats = []\n",
    "    for atom in mol.GetAtoms():\n",
    "        feats.append(atom.GetAtomicNum())\n",
    "    return {'atomic': torch.tensor(feats).reshape(-1, 1).float()}\n",
    "\n",
    "def featurize_bonds(mol):\n",
    "    feats = []\n",
    "    bond_types = [Chem.rdchem.BondType.SINGLE,\n",
    "                  Chem.rdchem.BondType.DOUBLE,\n",
    "                  Chem.rdchem.BondType.TRIPLE,\n",
    "                  Chem.rdchem.BondType.AROMATIC]\n",
    "    for bond in mol.GetBonds():\n",
    "        btype = bond_types.index(bond.GetBondType())\n",
    "        feats.extend([btype, btype])\n",
    "    return {'type': torch.tensor(feats).reshape(-1, 1).float()}\n",
    "\n",
    "smi_to_g = SMILESToBigraph(\n",
    "    node_featurizer=featurize_atoms,\n",
    "    edge_featurizer=featurize_bonds)\n",
    "\n",
    "g = smi_to_g('CCO')\n",
    "\n",
    "print(g)\n",
    "print(g.ndata)\n",
    "print(g.edata)"
   ]
  },
  {
   "cell_type": "markdown",
   "id": "3cd7ec61",
   "metadata": {},
   "source": [
    "使用本例中的 `smiles_to_g` 函数编码 SMILES 后，结果如下：\n",
    "- 返回 DGLGraph 对象，其包含 3 个节点（对应 3 个原子）和 4 个边（对应两个键，双向）\n",
    "- 节点特征名为 'h'，其大小为 3 行 74 列，即每个原子由 74 个数字编码\n",
    "- 边特征为空"
   ]
  },
  {
   "cell_type": "code",
   "execution_count": 7,
   "id": "d8a3fd2d",
   "metadata": {},
   "outputs": [
    {
     "name": "stdout",
     "output_type": "stream",
     "text": [
      "Graph(num_nodes=3, num_edges=4,\n",
      "      ndata_schemes={'h': Scheme(shape=(74,), dtype=torch.float32)}\n",
      "      edata_schemes={})\n",
      "{'h': tensor([[1., 0., 0., 0., 0., 0., 0., 0., 0., 0., 0., 0., 0., 0., 0., 0., 0., 0.,\n",
      "         0., 0., 0., 0., 0., 0., 0., 0., 0., 0., 0., 0., 0., 0., 0., 0., 0., 0.,\n",
      "         0., 0., 0., 0., 0., 0., 0., 0., 1., 0., 0., 0., 0., 0., 0., 0., 0., 0.,\n",
      "         0., 0., 0., 1., 0., 0., 0., 0., 0., 0., 0., 1., 0., 0., 0., 0., 0., 0.,\n",
      "         1., 0.],\n",
      "        [0., 0., 1., 0., 0., 0., 0., 0., 0., 0., 0., 0., 0., 0., 0., 0., 0., 0.,\n",
      "         0., 0., 0., 0., 0., 0., 0., 0., 0., 0., 0., 0., 0., 0., 0., 0., 0., 0.,\n",
      "         0., 0., 0., 0., 0., 0., 0., 0., 1., 0., 0., 0., 0., 0., 0., 0., 0., 0.,\n",
      "         0., 1., 0., 0., 0., 0., 0., 0., 0., 0., 0., 1., 0., 0., 0., 0., 1., 0.,\n",
      "         0., 0.],\n",
      "        [1., 0., 0., 0., 0., 0., 0., 0., 0., 0., 0., 0., 0., 0., 0., 0., 0., 0.,\n",
      "         0., 0., 0., 0., 0., 0., 0., 0., 0., 0., 0., 0., 0., 0., 0., 0., 0., 0.,\n",
      "         0., 0., 0., 0., 0., 0., 0., 0., 0., 1., 0., 0., 0., 0., 0., 0., 0., 0.,\n",
      "         0., 0., 1., 0., 0., 0., 0., 0., 0., 0., 0., 1., 0., 0., 0., 0., 0., 1.,\n",
      "         0., 0.]])}\n",
      "{}\n"
     ]
    }
   ],
   "source": [
    "g = smiles_to_g('CCO')\n",
    "\n",
    "print(g)\n",
    "print(g.ndata)\n",
    "print(g.edata)"
   ]
  },
  {
   "cell_type": "markdown",
   "id": "1daa326f",
   "metadata": {},
   "source": [
    "每个 dataset 的元素返回一个元组，元组中包含 4 个元素：\n",
    "- SMILES\n",
    "- DGLGraph 对象，包含节点数、边数、节点特征（名为 h 的 74 个特征）、边特征（空）\n",
    "- Labels，dtype 为 float32，shape 为 task 个数\n",
    "- masks，dtype 为 float32，表示在多任务学习中该图是否存在 Label"
   ]
  },
  {
   "cell_type": "code",
   "execution_count": 8,
   "id": "682b6226",
   "metadata": {},
   "outputs": [
    {
     "name": "stdout",
     "output_type": "stream",
     "text": [
      "Processing dgl graphs from scratch...\n",
      "Invalid mol found\n",
      "Invalid mol found\n",
      "Invalid mol found\n",
      "Invalid mol found\n",
      "Invalid mol found\n",
      "Invalid mol found\n",
      "Invalid mol found\n",
      "Invalid mol found\n",
      "Invalid mol found\n",
      "Invalid mol found\n",
      "Invalid mol found\n",
      "Processing molecule 1000/2050\n",
      "Processing molecule 2000/2050\n"
     ]
    }
   ],
   "source": [
    "dataset = BBBP(smiles_to_graph=smiles_to_g, n_jobs=1)"
   ]
  },
  {
   "cell_type": "code",
   "execution_count": 9,
   "id": "be2056b9",
   "metadata": {},
   "outputs": [
    {
     "data": {
      "text/plain": [
       "1"
      ]
     },
     "execution_count": 9,
     "metadata": {},
     "output_type": "execute_result"
    }
   ],
   "source": [
    "dataset.n_tasks"
   ]
  },
  {
   "cell_type": "code",
   "execution_count": 10,
   "id": "111e1ce0",
   "metadata": {},
   "outputs": [
    {
     "data": {
      "text/plain": [
       "('[Cl].CC(C)NCC(O)COc1cccc2ccccc12',\n",
       " Graph(num_nodes=20, num_edges=40,\n",
       "       ndata_schemes={'h': Scheme(shape=(74,), dtype=torch.float32)}\n",
       "       edata_schemes={}),\n",
       " tensor([1.]),\n",
       " tensor([1.]))"
      ]
     },
     "execution_count": 10,
     "metadata": {},
     "output_type": "execute_result"
    }
   ],
   "source": [
    "dataset[0]"
   ]
  },
  {
   "cell_type": "code",
   "execution_count": 11,
   "id": "cb5e53eb",
   "metadata": {},
   "outputs": [
    {
     "data": {
      "text/plain": [
       "2039"
      ]
     },
     "execution_count": 11,
     "metadata": {},
     "output_type": "execute_result"
    }
   ],
   "source": [
    "len(dataset)"
   ]
  },
  {
   "cell_type": "markdown",
   "id": "92f3ba1c",
   "metadata": {},
   "source": [
    "## 划分训练集与测试集"
   ]
  },
  {
   "cell_type": "code",
   "execution_count": 12,
   "id": "dd649b80",
   "metadata": {},
   "outputs": [
    {
     "name": "stdout",
     "output_type": "stream",
     "text": [
      "0.8 0.1 0.1\n"
     ]
    }
   ],
   "source": [
    "# utils\n",
    "\n",
    "a,b,c = map(float, '0.8,0.1,0.1'.split(','))\n",
    "print(a, b, c)"
   ]
  },
  {
   "cell_type": "code",
   "execution_count": 13,
   "id": "f8ad611a",
   "metadata": {},
   "outputs": [
    {
     "name": "stdout",
     "output_type": "stream",
     "text": [
      "Start initializing RDKit molecule instances...\n",
      "Creating RDKit molecule instance 1000/2039\n",
      "Creating RDKit molecule instance 2000/2039\n",
      "Start computing Bemis-Murcko scaffolds.\n",
      "Computing Bemis-Murcko for compound 1000/2039\n",
      "Computing Bemis-Murcko for compound 2000/2039\n"
     ]
    }
   ],
   "source": [
    "from dgllife.utils import ScaffoldSplitter\n",
    "\n",
    "# transfer string to float\n",
    "train_ratio, val_ratio, test_ratio = map(float, args['split_ratio'].split(','))\n",
    "\n",
    "# splitting\n",
    "train_set, val_set, test_set = ScaffoldSplitter.train_val_test_split(\n",
    "    dataset, frac_train=train_ratio, frac_val=val_ratio, frac_test=test_ratio\n",
    ")"
   ]
  },
  {
   "cell_type": "code",
   "execution_count": 14,
   "id": "2593176a",
   "metadata": {},
   "outputs": [
    {
     "data": {
      "text/plain": [
       "<dgl.data.utils.Subset at 0x7fd3247868b0>"
      ]
     },
     "execution_count": 14,
     "metadata": {},
     "output_type": "execute_result"
    }
   ],
   "source": [
    "train_set"
   ]
  },
  {
   "cell_type": "code",
   "execution_count": 15,
   "id": "8385bec8",
   "metadata": {},
   "outputs": [
    {
     "data": {
      "text/plain": [
       "<dgllife.data.bbbp.BBBP at 0x7fd2f869c1c0>"
      ]
     },
     "execution_count": 15,
     "metadata": {},
     "output_type": "execute_result"
    }
   ],
   "source": [
    "dataset"
   ]
  },
  {
   "cell_type": "markdown",
   "id": "0aa54fef",
   "metadata": {},
   "source": [
    "## 载入模型参数"
   ]
  },
  {
   "cell_type": "code",
   "execution_count": 16,
   "id": "753579e6",
   "metadata": {},
   "outputs": [
    {
     "data": {
      "text/plain": [
       "{'batch_size': 64,\n",
       " 'batchnorm': False,\n",
       " 'dropout': 0.0272564399565973,\n",
       " 'gnn_hidden_feats': 256,\n",
       " 'lr': 0.02020086171843634,\n",
       " 'num_gnn_layers': 4,\n",
       " 'patience': 30,\n",
       " 'predictor_hidden_feats': 32,\n",
       " 'residual': True,\n",
       " 'weight_decay': 0.001168051063650801}"
      ]
     },
     "execution_count": 16,
     "metadata": {},
     "output_type": "execute_result"
    }
   ],
   "source": [
    "import json\n",
    "\n",
    "with open('configures/BBBP/GCN_canonical.json') as f:\n",
    "    config = json.load(f)\n",
    "\n",
    "config"
   ]
  },
  {
   "cell_type": "markdown",
   "id": "91c4368a",
   "metadata": {},
   "source": [
    "## 训练前的准备工作\n",
    "\n",
    "- `CanonicalAtomFeaturizer() 具有一个 feat_size() 方法，返回它编码的原子特征个数`\n",
    "- 创建一个整理函数 `collate_molgraphs()`，其输入参数为 DGL 数据集，输出我们期待的一系列数据"
   ]
  },
  {
   "cell_type": "code",
   "execution_count": 21,
   "id": "5997ab29",
   "metadata": {},
   "outputs": [
    {
     "name": "stdout",
     "output_type": "stream",
     "text": [
      "74\n",
      "74\n"
     ]
    }
   ],
   "source": [
    "print(args['node_featurizer'].feat_size())\n",
    "print(CanonicalAtomFeaturizer().feat_size())"
   ]
  },
  {
   "cell_type": "code",
   "execution_count": 22,
   "id": "8d35ec79",
   "metadata": {},
   "outputs": [],
   "source": [
    "config['in_node_feats'] = args['node_featurizer'].feat_size()"
   ]
  },
  {
   "cell_type": "code",
   "execution_count": 25,
   "id": "7662753a",
   "metadata": {},
   "outputs": [],
   "source": [
    "import dgl\n",
    "\n",
    "def collate_molgraphs(data):\n",
    "    if len(data[0]) == 3:\n",
    "        smiles, graphs, labels = map(list, zip(*data))\n",
    "    else:\n",
    "        smiles, graphs, labels, masks = map(list, zip(*data))\n",
    "    \n",
    "    bg = dgl.batch(graphs)\n",
    "    bg.set_n_initializer(dgl.init.zero_initializer)\n",
    "    bg.set_e_initializer(dgl.init.zero_initializer)\n",
    "    labels = torch.stack(labels, dim=0)\n",
    "    \n",
    "    if len(data[0]) == 3:\n",
    "        masks = torch.ones(labels.shape)\n",
    "    else:\n",
    "        masks = torch.stack(masks, dim=0)\n",
    "    \n",
    "    return smiles, bg, labels, masks"
   ]
  },
  {
   "cell_type": "code",
   "execution_count": 32,
   "id": "72f88b70",
   "metadata": {},
   "outputs": [
    {
     "data": {
      "text/plain": [
       "4"
      ]
     },
     "execution_count": 32,
     "metadata": {},
     "output_type": "execute_result"
    }
   ],
   "source": [
    "_ = collate_molgraphs(train_set)\n",
    "len(_)"
   ]
  },
  {
   "cell_type": "code",
   "execution_count": 37,
   "id": "bfe528ef",
   "metadata": {},
   "outputs": [],
   "source": [
    "# dataloader\n",
    "\n",
    "train_loader = DataLoader(dataset=train_set, batch_size=config['batch_size'], shuffle=True,\n",
    "                          collate_fn=collate_molgraphs, num_workers=0)\n",
    "val_loader = DataLoader(dataset=val_set, batch_size=config['batch_size'], shuffle=True,\n",
    "                        collate_fn=collate_molgraphs, num_workers=0)\n",
    "test_loader = DataLoader(dataset=test_set, batch_size=config['batch_size'], shuffle=True,\n",
    "                         collate_fn=collate_molgraphs, num_workers=0)"
   ]
  },
  {
   "cell_type": "code",
   "execution_count": 38,
   "id": "28faa08f",
   "metadata": {},
   "outputs": [
    {
     "name": "stdout",
     "output_type": "stream",
     "text": [
      "26 4 4\n"
     ]
    }
   ],
   "source": [
    "print(len(train_loader), len(val_loader), len(test_loader))"
   ]
  },
  {
   "cell_type": "markdown",
   "id": "08817585",
   "metadata": {},
   "source": [
    "## 载入模型"
   ]
  },
  {
   "cell_type": "code",
   "execution_count": 50,
   "id": "38ec46a0",
   "metadata": {},
   "outputs": [
    {
     "data": {
      "text/plain": [
       "{'batch_size': 64,\n",
       " 'batchnorm': False,\n",
       " 'dropout': 0.0272564399565973,\n",
       " 'gnn_hidden_feats': 256,\n",
       " 'lr': 0.02020086171843634,\n",
       " 'num_gnn_layers': 4,\n",
       " 'patience': 30,\n",
       " 'predictor_hidden_feats': 32,\n",
       " 'residual': True,\n",
       " 'weight_decay': 0.001168051063650801,\n",
       " 'in_node_feats': 74,\n",
       " 'n_task': 1,\n",
       " 'n_tasks': 1}"
      ]
     },
     "execution_count": 50,
     "metadata": {},
     "output_type": "execute_result"
    }
   ],
   "source": [
    "config.update({'n_tasks': 1})\n",
    "config"
   ]
  },
  {
   "cell_type": "code",
   "execution_count": 51,
   "id": "63e430ae",
   "metadata": {},
   "outputs": [],
   "source": [
    "from dgllife.model import GCNPredictor\n",
    "import torch.nn.functional as F\n",
    "\n",
    "def load_model(config):\n",
    "    model = GCNPredictor(in_feats=config['in_node_feats'],\n",
    "                         hidden_feats=[config['gnn_hidden_feats']] * config['num_gnn_layers'],\n",
    "                         activation=[F.relu] * config['num_gnn_layers'],\n",
    "                         residual=[config['residual']] * config['num_gnn_layers'],\n",
    "                         batchnorm=[config['batchnorm']] * config['num_gnn_layers'],\n",
    "                         dropout=[config['dropout']] * config['num_gnn_layers'],\n",
    "                         predictor_hidden_feats=config['predictor_hidden_feats'],\n",
    "                         predictor_dropout=config['dropout'],\n",
    "                         n_tasks=config['n_tasks']\n",
    "                        )\n",
    "    return model"
   ]
  },
  {
   "cell_type": "code",
   "execution_count": 52,
   "id": "5f00a249",
   "metadata": {},
   "outputs": [
    {
     "data": {
      "text/plain": [
       "GCNPredictor(\n",
       "  (gnn): GCN(\n",
       "    (gnn_layers): ModuleList(\n",
       "      (0): GCNLayer(\n",
       "        (graph_conv): GraphConv(in=74, out=256, normalization=none, activation=<function relu at 0x7fd320f2daf0>)\n",
       "        (dropout): Dropout(p=0.0272564399565973, inplace=False)\n",
       "        (res_connection): Linear(in_features=74, out_features=256, bias=True)\n",
       "      )\n",
       "      (1): GCNLayer(\n",
       "        (graph_conv): GraphConv(in=256, out=256, normalization=none, activation=<function relu at 0x7fd320f2daf0>)\n",
       "        (dropout): Dropout(p=0.0272564399565973, inplace=False)\n",
       "        (res_connection): Linear(in_features=256, out_features=256, bias=True)\n",
       "      )\n",
       "      (2): GCNLayer(\n",
       "        (graph_conv): GraphConv(in=256, out=256, normalization=none, activation=<function relu at 0x7fd320f2daf0>)\n",
       "        (dropout): Dropout(p=0.0272564399565973, inplace=False)\n",
       "        (res_connection): Linear(in_features=256, out_features=256, bias=True)\n",
       "      )\n",
       "      (3): GCNLayer(\n",
       "        (graph_conv): GraphConv(in=256, out=256, normalization=none, activation=<function relu at 0x7fd320f2daf0>)\n",
       "        (dropout): Dropout(p=0.0272564399565973, inplace=False)\n",
       "        (res_connection): Linear(in_features=256, out_features=256, bias=True)\n",
       "      )\n",
       "    )\n",
       "  )\n",
       "  (readout): WeightedSumAndMax(\n",
       "    (weight_and_sum): WeightAndSum(\n",
       "      (atom_weighting): Sequential(\n",
       "        (0): Linear(in_features=256, out_features=1, bias=True)\n",
       "        (1): Sigmoid()\n",
       "      )\n",
       "    )\n",
       "  )\n",
       "  (predict): MLPPredictor(\n",
       "    (predict): Sequential(\n",
       "      (0): Dropout(p=0.0272564399565973, inplace=False)\n",
       "      (1): Linear(in_features=512, out_features=32, bias=True)\n",
       "      (2): ReLU()\n",
       "      (3): BatchNorm1d(32, eps=1e-05, momentum=0.1, affine=True, track_running_stats=True)\n",
       "      (4): Linear(in_features=32, out_features=1, bias=True)\n",
       "    )\n",
       "  )\n",
       ")"
      ]
     },
     "execution_count": 52,
     "metadata": {},
     "output_type": "execute_result"
    }
   ],
   "source": [
    "model = load_model(config).to(args['device'])\n",
    "model"
   ]
  },
  {
   "cell_type": "code",
   "execution_count": 53,
   "id": "2488bb3b",
   "metadata": {},
   "outputs": [
    {
     "name": "stdout",
     "output_type": "stream",
     "text": [
      "For metric roc_auc_score, the higher the better\n"
     ]
    }
   ],
   "source": [
    "import torch.nn as nn\n",
    "\n",
    "loss_criterion = nn.BCEWithLogitsLoss(reduction='none')\n",
    "optimizer = Adam(model.parameters(), lr=config['lr'], weight_decay=config['weight_decay'])\n",
    "stopper = EarlyStopping(patience=config['patience'], filename=args['result_path'] + '/model.pth',\n",
    "                       metric=args['metric'])"
   ]
  },
  {
   "cell_type": "code",
   "execution_count": 67,
   "id": "fb044b64",
   "metadata": {},
   "outputs": [],
   "source": [
    "def predict(args, model, bg):\n",
    "    bg = bg.to(args['device'])\n",
    "    if args['edge_featurizer'] is None:\n",
    "        node_feats = bg.ndata.pop('h').to(args['device'])\n",
    "        return model(bg, node_feats)\n",
    "    else:\n",
    "        node_feats = bg.ndata.pop('h').to(args['device'])\n",
    "        edge_feats = bg.edata.pop('h').to(args['device'])\n",
    "        return model(bg, node_feats, edge_feats)"
   ]
  },
  {
   "cell_type": "code",
   "execution_count": null,
   "id": "295e36fd",
   "metadata": {},
   "outputs": [],
   "source": []
  },
  {
   "cell_type": "code",
   "execution_count": null,
   "id": "9f8b208b",
   "metadata": {},
   "outputs": [],
   "source": [
    "def run_a_train_epoch(args, epoch, model, data_loader, loss_criterion, optimizer):\n",
    "    model.train()\n",
    "    train_meter = Meter()\n",
    "    for batch_id, batch_data in enumerate(data_loader):\n",
    "        smiles, bg, labels, masks = batch_data\n",
    "        if len(smiles) == 1:\n",
    "            continue\n",
    "        \n",
    "        labels, masks = labels.to(args['device']), masks.to(args['device'])\n",
    "        logits = predict(args, model, bg)"
   ]
  },
  {
   "cell_type": "code",
   "execution_count": 54,
   "id": "141fe8e8",
   "metadata": {},
   "outputs": [
    {
     "data": {
      "text/plain": [
       "<dgllife.utils.eval.Meter at 0x7fd2c155db80>"
      ]
     },
     "execution_count": 54,
     "metadata": {},
     "output_type": "execute_result"
    }
   ],
   "source": [
    "Meter()"
   ]
  },
  {
   "cell_type": "code",
   "execution_count": 64,
   "id": "e8462156",
   "metadata": {},
   "outputs": [
    {
     "data": {
      "text/plain": [
       "tensor([[1., 0., 0.,  ..., 1., 0., 0.],\n",
       "        [1., 0., 0.,  ..., 0., 0., 0.],\n",
       "        [1., 0., 0.,  ..., 1., 0., 0.],\n",
       "        ...,\n",
       "        [1., 0., 0.,  ..., 1., 0., 0.],\n",
       "        [1., 0., 0.,  ..., 0., 0., 0.],\n",
       "        [1., 0., 0.,  ..., 0., 0., 0.]])"
      ]
     },
     "execution_count": 64,
     "metadata": {},
     "output_type": "execute_result"
    }
   ],
   "source": [
    "bg = _[1]\n",
    "bg.ndata.pop('h')"
   ]
  },
  {
   "cell_type": "code",
   "execution_count": null,
   "id": "c6a90b6b",
   "metadata": {},
   "outputs": [],
   "source": []
  }
 ],
 "metadata": {
  "kernelspec": {
   "display_name": "Python 3 (ipykernel)",
   "language": "python",
   "name": "python3"
  },
  "language_info": {
   "codemirror_mode": {
    "name": "ipython",
    "version": 3
   },
   "file_extension": ".py",
   "mimetype": "text/x-python",
   "name": "python",
   "nbconvert_exporter": "python",
   "pygments_lexer": "ipython3",
   "version": "3.9.18"
  }
 },
 "nbformat": 4,
 "nbformat_minor": 5
}
