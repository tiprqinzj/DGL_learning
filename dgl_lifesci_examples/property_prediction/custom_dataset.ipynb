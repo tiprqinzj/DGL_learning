{
 "cells": [
  {
   "cell_type": "code",
   "execution_count": 1,
   "id": "519e1c71",
   "metadata": {},
   "outputs": [],
   "source": [
    "import dgl\n",
    "import torch\n",
    "import pandas as pd\n",
    "from dgllife.data import MoleculeCSVDataset\n",
    "from dgllife.utils import SMILESToBigraph\n",
    "from dgllife.utils import CanonicalAtomFeaturizer"
   ]
  },
  {
   "cell_type": "code",
   "execution_count": 2,
   "id": "3306058f",
   "metadata": {},
   "outputs": [],
   "source": [
    "def load_dataset(df, smi_title, label_title, out_graph_path):\n",
    "    smiles_to_g = SMILESToBigraph(add_self_loop=True,\n",
    "                                  node_featurizer=CanonicalAtomFeaturizer(),\n",
    "                                  edge_featurizer=None)\n",
    "    dataset = MoleculeCSVDataset(df=df,\n",
    "                                 smiles_to_graph=smiles_to_g,\n",
    "                                 smiles_column=smi_title,\n",
    "                                 cache_file_path=out_graph_path,\n",
    "                                 task_names=[label_title],\n",
    "                                 load=True,\n",
    "                                 n_jobs=1)\n",
    "    return dataset"
   ]
  },
  {
   "cell_type": "code",
   "execution_count": 3,
   "id": "d6b4d586",
   "metadata": {},
   "outputs": [
    {
     "name": "stdout",
     "output_type": "stream",
     "text": [
      "Loading previously saved dgl graphs...\n"
     ]
    }
   ],
   "source": [
    "df = pd.read_csv('data/caco2ab_curated1805_trtecv.csv')\n",
    "dataset = load_dataset(df, 'Flatten_SMILES', 'target_binary', 'data/caco2ab_curated1805_graphs.bin')"
   ]
  },
  {
   "cell_type": "code",
   "execution_count": 4,
   "id": "2f33dfb0",
   "metadata": {},
   "outputs": [
    {
     "data": {
      "text/plain": [
       "<dgllife.data.csv_dataset.MoleculeCSVDataset at 0x7fa13942aca0>"
      ]
     },
     "execution_count": 4,
     "metadata": {},
     "output_type": "execute_result"
    }
   ],
   "source": [
    "dataset"
   ]
  },
  {
   "cell_type": "code",
   "execution_count": 5,
   "id": "bb125538",
   "metadata": {},
   "outputs": [],
   "source": [
    "from torch.utils.data import DataLoader"
   ]
  },
  {
   "cell_type": "code",
   "execution_count": 6,
   "id": "2a8ae3c6",
   "metadata": {},
   "outputs": [
    {
     "data": {
      "text/plain": [
       "1805"
      ]
     },
     "execution_count": 6,
     "metadata": {},
     "output_type": "execute_result"
    }
   ],
   "source": [
    "len(dataset)"
   ]
  },
  {
   "cell_type": "code",
   "execution_count": 7,
   "id": "c225705e",
   "metadata": {},
   "outputs": [
    {
     "data": {
      "text/plain": [
       "('COCCOc1cc(NC(=O)C2(NC(=O)c3ccc4c(C5CCCC5)c(-c5ncc(Cl)cn5)n(C)c4c3)CCC2)ccc1C=CC(=O)O',\n",
       " Graph(num_nodes=48, num_edges=154,\n",
       "       ndata_schemes={'h': Scheme(shape=(74,), dtype=torch.float32)}\n",
       "       edata_schemes={}),\n",
       " tensor([1.]),\n",
       " tensor([1.]))"
      ]
     },
     "execution_count": 7,
     "metadata": {},
     "output_type": "execute_result"
    }
   ],
   "source": [
    "g = dataset[0]\n",
    "g"
   ]
  },
  {
   "cell_type": "code",
   "execution_count": 8,
   "id": "10fd5936",
   "metadata": {},
   "outputs": [],
   "source": [
    "def collate_molgraphs(data):\n",
    "    # uppacked the dataset to list\n",
    "    smiles, graphs, labels, masks = map(list, zip(*data))\n",
    "\n",
    "    # batch graphs\n",
    "    bg = dgl.batch(graphs)\n",
    "    bg.set_n_initializer(dgl.init.zero_initializer)\n",
    "    bg.set_e_initializer(dgl.init.zero_initializer)\n",
    "    labels = torch.stack(labels, dim=0)\n",
    "\n",
    "    return smiles, bg, labels, masks"
   ]
  },
  {
   "cell_type": "code",
   "execution_count": 9,
   "id": "c14d62c8",
   "metadata": {},
   "outputs": [],
   "source": [
    "data_loader = DataLoader(dataset, batch_size=8, shuffle=True, drop_last=True,\n",
    "                         collate_fn=collate_molgraphs, num_workers=0)"
   ]
  },
  {
   "cell_type": "code",
   "execution_count": 10,
   "id": "c2d4357b",
   "metadata": {},
   "outputs": [
    {
     "data": {
      "text/plain": [
       "<torch.utils.data.dataloader.DataLoader at 0x7fa1594ebbb0>"
      ]
     },
     "execution_count": 10,
     "metadata": {},
     "output_type": "execute_result"
    }
   ],
   "source": [
    "data_loader"
   ]
  },
  {
   "cell_type": "code",
   "execution_count": 11,
   "id": "154d1a64",
   "metadata": {},
   "outputs": [
    {
     "data": {
      "text/plain": [
       "225"
      ]
     },
     "execution_count": 11,
     "metadata": {},
     "output_type": "execute_result"
    }
   ],
   "source": [
    "len(data_loader)"
   ]
  },
  {
   "cell_type": "code",
   "execution_count": 12,
   "id": "85f969fa",
   "metadata": {},
   "outputs": [],
   "source": [
    "for data in data_loader:\n",
    "    smiles, graphs, labels, masks = data\n",
    "    \n",
    "    break"
   ]
  },
  {
   "cell_type": "code",
   "execution_count": 13,
   "id": "8d073159",
   "metadata": {},
   "outputs": [
    {
     "data": {
      "text/plain": [
       "['CN1Cc2c(Cl)cc(Cl)cc2C(c2ccc(S(=O)(=O)Nc3ccc(CP(=O)(O)O)cc3)cc2)C1',\n",
       " 'C=CC(=O)NC1CCN(c2ccc(C(N)=O)c(Nc3ccc(C(=O)N4CCOCC4)cc3)n2)C1',\n",
       " 'NCCCC(C#Cc1cccc(C(N)=O)c1)CC1OC(n2cnc3c(N)ncnc32)C(O)C1O',\n",
       " 'Cc1ccc(NS(C)(=O)=O)c(C(=O)N2CCCCC2c2cc3nc(C4CC4)ccn3n2)c1',\n",
       " 'COc1cc(C(=O)N2CCC(O)C(C)C2)cc2nc(NCc3cncc(Cl)c3)oc12',\n",
       " 'CN(C)CC1CN(c2ccc(Nc3nc(-c4ccc5cn[nH]c5c4)cn4ccnc34)cc2)CCO1',\n",
       " 'COc1ccc(-c2cc3c(C)nc(N)nc3n(C3CCC(OCCO)CC3)c2=O)cn1',\n",
       " 'N#Cc1ccnc(N2C(=O)CCC2CC(=O)N(c2cc(F)cc(F)c2)C(C(=O)NC2CC(F)(F)C2)c2ccccc2Cl)c1']"
      ]
     },
     "execution_count": 13,
     "metadata": {},
     "output_type": "execute_result"
    }
   ],
   "source": [
    "smiles"
   ]
  },
  {
   "cell_type": "code",
   "execution_count": 14,
   "id": "4fd59657",
   "metadata": {},
   "outputs": [
    {
     "data": {
      "text/plain": [
       "Graph(num_nodes=273, num_edges=875,\n",
       "      ndata_schemes={'h': Scheme(shape=(74,), dtype=torch.float32)}\n",
       "      edata_schemes={})"
      ]
     },
     "execution_count": 14,
     "metadata": {},
     "output_type": "execute_result"
    }
   ],
   "source": [
    "graphs"
   ]
  },
  {
   "cell_type": "code",
   "execution_count": 15,
   "id": "1feb0eb2",
   "metadata": {},
   "outputs": [
    {
     "data": {
      "text/plain": [
       "tensor([[0.],\n",
       "        [0.],\n",
       "        [0.],\n",
       "        [1.],\n",
       "        [0.],\n",
       "        [0.],\n",
       "        [1.],\n",
       "        [1.]])"
      ]
     },
     "execution_count": 15,
     "metadata": {},
     "output_type": "execute_result"
    }
   ],
   "source": [
    "labels"
   ]
  },
  {
   "cell_type": "code",
   "execution_count": 16,
   "id": "0524f260",
   "metadata": {},
   "outputs": [
    {
     "data": {
      "text/plain": [
       "[tensor([1.]),\n",
       " tensor([1.]),\n",
       " tensor([1.]),\n",
       " tensor([1.]),\n",
       " tensor([1.]),\n",
       " tensor([1.]),\n",
       " tensor([1.]),\n",
       " tensor([1.])]"
      ]
     },
     "execution_count": 16,
     "metadata": {},
     "output_type": "execute_result"
    }
   ],
   "source": [
    "masks"
   ]
  },
  {
   "cell_type": "code",
   "execution_count": null,
   "id": "2f4b7c93",
   "metadata": {},
   "outputs": [],
   "source": []
  }
 ],
 "metadata": {
  "kernelspec": {
   "display_name": "Python 3 (ipykernel)",
   "language": "python",
   "name": "python3"
  },
  "language_info": {
   "codemirror_mode": {
    "name": "ipython",
    "version": 3
   },
   "file_extension": ".py",
   "mimetype": "text/x-python",
   "name": "python",
   "nbconvert_exporter": "python",
   "pygments_lexer": "ipython3",
   "version": "3.9.18"
  }
 },
 "nbformat": 4,
 "nbformat_minor": 5
}
