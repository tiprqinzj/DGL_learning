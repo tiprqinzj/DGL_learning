{
 "cells": [
  {
   "cell_type": "markdown",
   "id": "14eb60fd",
   "metadata": {},
   "source": [
    "# DGL 如何表示一个图"
   ]
  },
  {
   "cell_type": "code",
   "execution_count": 1,
   "id": "fdd6b45d",
   "metadata": {},
   "outputs": [],
   "source": [
    "import os\n",
    "os.environ['DGLBACKEND'] = 'pytorch'\n",
    "\n",
    "import dgl\n",
    "import numpy as np\n",
    "import torch"
   ]
  },
  {
   "cell_type": "markdown",
   "id": "88cd867d",
   "metadata": {},
   "source": [
    "# DGL 图的构成\n",
    "\n",
    "DGL 使用 `DGLGraph` 对象表示有向图，可以通过指定图中的节点数、并给出源节点和目标节点的列表来创建图；注意，节点的 ID 从 0 开始"
   ]
  },
  {
   "cell_type": "code",
   "execution_count": 3,
   "id": "60d01a60",
   "metadata": {},
   "outputs": [
    {
     "data": {
      "text/plain": [
       "Graph(num_nodes=6, num_edges=5,\n",
       "      ndata_schemes={}\n",
       "      edata_schemes={})"
      ]
     },
     "execution_count": 3,
     "metadata": {},
     "output_type": "execute_result"
    }
   ],
   "source": [
    "g = dgl.graph(([0,0,0,0,0], [1,2,3,4,5]), num_nodes=6)\n",
    "g"
   ]
  },
  {
   "cell_type": "code",
   "execution_count": 4,
   "id": "fe238cff",
   "metadata": {},
   "outputs": [
    {
     "data": {
      "text/plain": [
       "(tensor([0, 0, 0, 0, 0]), tensor([1, 2, 3, 4, 5]))"
      ]
     },
     "execution_count": 4,
     "metadata": {},
     "output_type": "execute_result"
    }
   ],
   "source": [
    "g.edges()"
   ]
  },
  {
   "cell_type": "markdown",
   "id": "6a84da4a",
   "metadata": {},
   "source": [
    "# 为节点和边指定特征\n",
    "\n",
    "注，所有节点和边的某个属性必须具有相同的shape  \n",
    "可以使用 `ndata` 和 `edata` 来指定属性"
   ]
  },
  {
   "cell_type": "code",
   "execution_count": 5,
   "id": "3f0eb8af",
   "metadata": {},
   "outputs": [],
   "source": [
    "g.ndata['x'] = torch.randn(6, 3)\n",
    "g.edata['a'] = torch.randn(5, 4)\n",
    "g.ndata['y'] = torch.randn(6, 5, 4)"
   ]
  },
  {
   "cell_type": "code",
   "execution_count": 6,
   "id": "7627eda6",
   "metadata": {},
   "outputs": [
    {
     "data": {
      "text/plain": [
       "{'a': tensor([[-0.2626, -0.2834,  0.9587, -2.0645],\n",
       "        [ 0.8945, -0.1075, -0.1716,  0.3107],\n",
       "        [-0.1491, -2.1516, -1.2666, -1.5695],\n",
       "        [ 0.8633,  0.0676,  0.8563,  1.7892],\n",
       "        [-0.1679, -0.4395, -0.4872, -1.5647]])}"
      ]
     },
     "execution_count": 6,
     "metadata": {},
     "output_type": "execute_result"
    }
   ],
   "source": [
    "g.edata"
   ]
  },
  {
   "cell_type": "code",
   "execution_count": 7,
   "id": "07153da0",
   "metadata": {},
   "outputs": [
    {
     "data": {
      "text/plain": [
       "{'x': tensor([[-0.6762,  1.3454, -2.1683],\n",
       "        [-1.9207,  1.5097, -0.2205],\n",
       "        [-0.1148,  1.2423,  0.6648],\n",
       "        [ 1.4439, -0.9413,  1.9974],\n",
       "        [ 1.7000, -0.2232,  0.5450],\n",
       "        [-0.8507,  0.5617,  3.0171]]), 'y': tensor([[[-1.0033, -0.1979, -1.0485,  0.3915],\n",
       "         [ 0.1601,  1.0121,  0.0268,  0.0401],\n",
       "         [-0.6364,  0.5714,  0.5683,  0.1913],\n",
       "         [ 0.8774,  0.1828,  0.2675, -1.0498],\n",
       "         [ 0.8953, -0.7130,  0.0734,  0.9399]],\n",
       "\n",
       "        [[ 0.1657,  1.1209,  0.2638, -0.7912],\n",
       "         [-0.9069,  0.9218, -0.3797,  0.3965],\n",
       "         [ 0.5320, -0.3062, -1.7258,  0.9073],\n",
       "         [-1.6475,  0.0441,  0.2985, -0.3665],\n",
       "         [ 1.4360, -0.1849,  0.7406,  0.4496]],\n",
       "\n",
       "        [[ 1.6500, -0.7142,  1.1823,  1.1413],\n",
       "         [-0.8410, -0.1358, -0.5972,  0.7112],\n",
       "         [-0.5897,  0.1501, -0.4409,  0.9698],\n",
       "         [-0.0665,  1.4316, -0.4026, -0.4880],\n",
       "         [ 0.7647,  1.7640,  1.9558,  0.4496]],\n",
       "\n",
       "        [[ 0.0498, -0.4590, -0.7995,  2.5444],\n",
       "         [ 0.3217,  0.7907,  0.5771, -0.4216],\n",
       "         [-0.6495, -0.2610, -1.5509,  0.6745],\n",
       "         [ 0.8776, -0.8324, -0.0455,  1.3799],\n",
       "         [ 0.6004,  1.3702, -0.3733, -0.3716]],\n",
       "\n",
       "        [[-0.3174,  0.5164, -1.8963,  1.3949],\n",
       "         [-0.8328,  0.5941, -1.6046,  1.7203],\n",
       "         [ 0.4432, -0.2914, -1.3526,  0.4751],\n",
       "         [ 0.8008, -0.4709,  0.1157,  1.3473],\n",
       "         [-0.5066,  1.4283,  0.5131, -0.0256]],\n",
       "\n",
       "        [[-1.6332,  0.7923, -2.2383,  1.6341],\n",
       "         [-0.5398, -1.8216, -0.4201,  0.0238],\n",
       "         [-1.9838, -0.2003,  0.6868, -1.6085],\n",
       "         [ 0.7558,  0.2939,  1.1938,  0.1415],\n",
       "         [-1.1900, -1.2579, -0.4763, -0.4330]]])}"
      ]
     },
     "execution_count": 7,
     "metadata": {},
     "output_type": "execute_result"
    }
   ],
   "source": [
    "g.ndata"
   ]
  },
  {
   "cell_type": "markdown",
   "id": "22d83b85",
   "metadata": {},
   "source": [
    "# 查询图的结构"
   ]
  },
  {
   "cell_type": "code",
   "execution_count": 8,
   "id": "6661f41f",
   "metadata": {},
   "outputs": [
    {
     "data": {
      "text/plain": [
       "6"
      ]
     },
     "execution_count": 8,
     "metadata": {},
     "output_type": "execute_result"
    }
   ],
   "source": [
    "g.num_nodes()"
   ]
  },
  {
   "cell_type": "code",
   "execution_count": 9,
   "id": "405decb0",
   "metadata": {},
   "outputs": [
    {
     "data": {
      "text/plain": [
       "5"
      ]
     },
     "execution_count": 9,
     "metadata": {},
     "output_type": "execute_result"
    }
   ],
   "source": [
    "g.num_edges()"
   ]
  },
  {
   "cell_type": "code",
   "execution_count": 10,
   "id": "b23bed62",
   "metadata": {},
   "outputs": [
    {
     "data": {
      "text/plain": [
       "5"
      ]
     },
     "execution_count": 10,
     "metadata": {},
     "output_type": "execute_result"
    }
   ],
   "source": [
    "g.out_degrees(0)"
   ]
  },
  {
   "cell_type": "code",
   "execution_count": 11,
   "id": "9b6d8b2e",
   "metadata": {},
   "outputs": [
    {
     "data": {
      "text/plain": [
       "0"
      ]
     },
     "execution_count": 11,
     "metadata": {},
     "output_type": "execute_result"
    }
   ],
   "source": [
    "g.in_degrees(0)"
   ]
  },
  {
   "cell_type": "markdown",
   "id": "c279a10f",
   "metadata": {},
   "source": [
    "# 图的转化"
   ]
  },
  {
   "cell_type": "code",
   "execution_count": 12,
   "id": "94d3c3fb",
   "metadata": {},
   "outputs": [],
   "source": [
    "newg = dgl.add_reverse_edges(g)"
   ]
  },
  {
   "cell_type": "code",
   "execution_count": 14,
   "id": "84a9a1b5",
   "metadata": {},
   "outputs": [
    {
     "data": {
      "text/plain": [
       "(tensor([0, 0, 0, 0, 0, 1, 2, 3, 4, 5]),\n",
       " tensor([1, 2, 3, 4, 5, 0, 0, 0, 0, 0]))"
      ]
     },
     "execution_count": 14,
     "metadata": {},
     "output_type": "execute_result"
    }
   ],
   "source": [
    "newg.edges()"
   ]
  },
  {
   "cell_type": "markdown",
   "id": "b47fabf2",
   "metadata": {},
   "source": [
    "# 保存于载入图"
   ]
  },
  {
   "cell_type": "code",
   "execution_count": 15,
   "id": "df2092be",
   "metadata": {},
   "outputs": [],
   "source": [
    "dgl.save_graphs('data/graph.dgl', g)\n",
    "dgl.save_graphs('data/graphs.dgl', [g, newg])"
   ]
  },
  {
   "cell_type": "code",
   "execution_count": 17,
   "id": "8aa7c5a2",
   "metadata": {},
   "outputs": [],
   "source": [
    "(g,), _ = dgl.load_graphs('data/graph.dgl')"
   ]
  },
  {
   "cell_type": "code",
   "execution_count": 18,
   "id": "bf0d142d",
   "metadata": {},
   "outputs": [
    {
     "data": {
      "text/plain": [
       "Graph(num_nodes=6, num_edges=5,\n",
       "      ndata_schemes={'y': Scheme(shape=(5, 4), dtype=torch.float32), 'x': Scheme(shape=(3,), dtype=torch.float32)}\n",
       "      edata_schemes={'a': Scheme(shape=(4,), dtype=torch.float32)})"
      ]
     },
     "execution_count": 18,
     "metadata": {},
     "output_type": "execute_result"
    }
   ],
   "source": [
    "g"
   ]
  },
  {
   "cell_type": "code",
   "execution_count": 19,
   "id": "5834a4e2",
   "metadata": {},
   "outputs": [
    {
     "data": {
      "text/plain": [
       "{}"
      ]
     },
     "execution_count": 19,
     "metadata": {},
     "output_type": "execute_result"
    }
   ],
   "source": [
    "_"
   ]
  },
  {
   "cell_type": "code",
   "execution_count": 20,
   "id": "02f6b964",
   "metadata": {},
   "outputs": [],
   "source": [
    "(g, newg), _ = dgl.load_graphs('data/graphs.dgl')"
   ]
  },
  {
   "cell_type": "code",
   "execution_count": 21,
   "id": "124d7e60",
   "metadata": {},
   "outputs": [
    {
     "data": {
      "text/plain": [
       "Graph(num_nodes=6, num_edges=5,\n",
       "      ndata_schemes={'y': Scheme(shape=(5, 4), dtype=torch.float32), 'x': Scheme(shape=(3,), dtype=torch.float32)}\n",
       "      edata_schemes={'a': Scheme(shape=(4,), dtype=torch.float32)})"
      ]
     },
     "execution_count": 21,
     "metadata": {},
     "output_type": "execute_result"
    }
   ],
   "source": [
    "g"
   ]
  },
  {
   "cell_type": "code",
   "execution_count": 22,
   "id": "c745ca94",
   "metadata": {},
   "outputs": [
    {
     "data": {
      "text/plain": [
       "Graph(num_nodes=6, num_edges=10,\n",
       "      ndata_schemes={'y': Scheme(shape=(5, 4), dtype=torch.float32), 'x': Scheme(shape=(3,), dtype=torch.float32)}\n",
       "      edata_schemes={})"
      ]
     },
     "execution_count": 22,
     "metadata": {},
     "output_type": "execute_result"
    }
   ],
   "source": [
    "newg"
   ]
  },
  {
   "cell_type": "code",
   "execution_count": null,
   "id": "599cf13a",
   "metadata": {},
   "outputs": [],
   "source": []
  }
 ],
 "metadata": {
  "kernelspec": {
   "display_name": "Python 3 (ipykernel)",
   "language": "python",
   "name": "python3"
  },
  "language_info": {
   "codemirror_mode": {
    "name": "ipython",
    "version": 3
   },
   "file_extension": ".py",
   "mimetype": "text/x-python",
   "name": "python",
   "nbconvert_exporter": "python",
   "pygments_lexer": "ipython3",
   "version": "3.9.18"
  }
 },
 "nbformat": 4,
 "nbformat_minor": 5
}
