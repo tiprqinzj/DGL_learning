{
 "cells": [
  {
   "cell_type": "markdown",
   "id": "9d0f0731",
   "metadata": {},
   "source": [
    "# 节点分类"
   ]
  },
  {
   "cell_type": "code",
   "execution_count": 1,
   "id": "6e96d538",
   "metadata": {},
   "outputs": [],
   "source": [
    "import os\n",
    "os.environ['DGLBACKEND'] = 'pytorch'\n",
    "\n",
    "import dgl\n",
    "import dgl.data\n",
    "import torch\n",
    "import torch.nn as nn\n",
    "import torch.nn.functional as F"
   ]
  },
  {
   "cell_type": "markdown",
   "id": "b23ec8de",
   "metadata": {},
   "source": [
    "# GNN 节点分类总览"
   ]
  },
  {
   "cell_type": "markdown",
   "id": "edbaf372",
   "metadata": {},
   "source": [
    "## Loading Cora Dataset"
   ]
  },
  {
   "cell_type": "code",
   "execution_count": 2,
   "id": "e8d5c5db",
   "metadata": {},
   "outputs": [
    {
     "name": "stdout",
     "output_type": "stream",
     "text": [
      "  NumNodes: 2708\n",
      "  NumEdges: 10556\n",
      "  NumFeats: 1433\n",
      "  NumClasses: 7\n",
      "  NumTrainingSamples: 140\n",
      "  NumValidationSamples: 500\n",
      "  NumTestSamples: 1000\n",
      "Done loading data from cached files.\n",
      "7\n"
     ]
    }
   ],
   "source": [
    "dataset = dgl.data.CoraGraphDataset()\n",
    "print(dataset.num_classes)"
   ]
  },
  {
   "cell_type": "code",
   "execution_count": 3,
   "id": "d3bef109",
   "metadata": {},
   "outputs": [
    {
     "data": {
      "text/plain": [
       "Dataset(\"cora_v2\", num_graphs=1, save_path=/Users/qinzijian/.dgl/cora_v2_d697a464)"
      ]
     },
     "execution_count": 3,
     "metadata": {},
     "output_type": "execute_result"
    }
   ],
   "source": [
    "dataset"
   ]
  },
  {
   "cell_type": "code",
   "execution_count": 4,
   "id": "11d4028c",
   "metadata": {},
   "outputs": [
    {
     "data": {
      "text/plain": [
       "Graph(num_nodes=2708, num_edges=10556,\n",
       "      ndata_schemes={'feat': Scheme(shape=(1433,), dtype=torch.float32), 'label': Scheme(shape=(), dtype=torch.int64), 'val_mask': Scheme(shape=(), dtype=torch.bool), 'test_mask': Scheme(shape=(), dtype=torch.bool), 'train_mask': Scheme(shape=(), dtype=torch.bool)}\n",
       "      edata_schemes={})"
      ]
     },
     "execution_count": 4,
     "metadata": {},
     "output_type": "execute_result"
    }
   ],
   "source": [
    "g = dataset[0]\n",
    "g"
   ]
  },
  {
   "cell_type": "markdown",
   "id": "dc697248",
   "metadata": {},
   "source": [
    "DGL图将节点特征和边特征保存于两个字典样的属性中，即`ndata`和`edata`  \n",
    "其中，`ndata`中包含5个节点特征\n",
    " - `train_mask` Boolean tensor 表示节点是否为训练集\n",
    " - `val_mask`\n",
    " - `test_mask`\n",
    " - `label` 节点的真实类别\n",
    " - `feat` 节点特征"
   ]
  },
  {
   "cell_type": "code",
   "execution_count": 10,
   "id": "4d9f981d",
   "metadata": {},
   "outputs": [
    {
     "data": {
      "text/plain": [
       "{'feat': tensor([[0., 0., 0.,  ..., 0., 0., 0.],\n",
       "        [0., 0., 0.,  ..., 0., 0., 0.],\n",
       "        [0., 0., 0.,  ..., 0., 0., 0.],\n",
       "        ...,\n",
       "        [0., 0., 0.,  ..., 0., 0., 0.],\n",
       "        [0., 0., 0.,  ..., 0., 0., 0.],\n",
       "        [0., 0., 0.,  ..., 0., 0., 0.]]), 'label': tensor([3, 4, 4,  ..., 3, 3, 3]), 'val_mask': tensor([False, False, False,  ..., False, False, False]), 'test_mask': tensor([False, False, False,  ...,  True,  True,  True]), 'train_mask': tensor([ True,  True,  True,  ..., False, False, False])}"
      ]
     },
     "execution_count": 10,
     "metadata": {},
     "output_type": "execute_result"
    }
   ],
   "source": [
    "g.ndata"
   ]
  },
  {
   "cell_type": "code",
   "execution_count": 6,
   "id": "4311a903",
   "metadata": {},
   "outputs": [
    {
     "data": {
      "text/plain": [
       "{}"
      ]
     },
     "execution_count": 6,
     "metadata": {},
     "output_type": "execute_result"
    }
   ],
   "source": [
    "g.edata"
   ]
  },
  {
   "cell_type": "code",
   "execution_count": 17,
   "id": "e24653c4",
   "metadata": {},
   "outputs": [
    {
     "data": {
      "text/plain": [
       "tensor([[0., 0., 0.,  ..., 0., 0., 0.],\n",
       "        [0., 0., 0.,  ..., 0., 0., 0.],\n",
       "        [0., 0., 0.,  ..., 0., 0., 0.],\n",
       "        ...,\n",
       "        [0., 0., 0.,  ..., 0., 0., 0.],\n",
       "        [0., 0., 0.,  ..., 0., 0., 0.],\n",
       "        [0., 0., 0.,  ..., 0., 0., 0.]])"
      ]
     },
     "execution_count": 17,
     "metadata": {},
     "output_type": "execute_result"
    }
   ],
   "source": [
    "g.ndata['feat']"
   ]
  },
  {
   "cell_type": "code",
   "execution_count": 18,
   "id": "71ce5707",
   "metadata": {},
   "outputs": [
    {
     "data": {
      "text/plain": [
       "tensor([ True,  True,  True,  ..., False, False, False])"
      ]
     },
     "execution_count": 18,
     "metadata": {},
     "output_type": "execute_result"
    }
   ],
   "source": [
    "g.ndata['train_mask']"
   ]
  },
  {
   "cell_type": "markdown",
   "id": "3b788fcc",
   "metadata": {},
   "source": [
    "# 定义图卷积网络（GCN）\n",
    "\n",
    "本教程中，建立两层的 GCN，每层通过聚集相邻的信息来计算新的节点表示"
   ]
  },
  {
   "cell_type": "code",
   "execution_count": 21,
   "id": "1458a644",
   "metadata": {},
   "outputs": [],
   "source": [
    "from dgl.nn import GraphConv\n",
    "\n",
    "class GCN(nn.Module):\n",
    "    def __init__(self, in_feats, h_feats, num_classes):\n",
    "        super(GCN, self).__init__()\n",
    "        self.conv1 = GraphConv(in_feats, h_feats)\n",
    "        self.conv2 = GraphConv(h_feats, num_classes)\n",
    "    \n",
    "    def forward(self, g, in_feat):\n",
    "        h = self.conv1(g, in_feat)\n",
    "        h = F.relu(h)\n",
    "        h = self.conv2(g, h)\n",
    "        return h"
   ]
  },
  {
   "cell_type": "code",
   "execution_count": 22,
   "id": "5489dced",
   "metadata": {},
   "outputs": [],
   "source": [
    "model = GCN(g.ndata['feat'].shape[1], 16, dataset.num_classes)"
   ]
  },
  {
   "cell_type": "code",
   "execution_count": 23,
   "id": "73b37ed8",
   "metadata": {},
   "outputs": [
    {
     "data": {
      "text/plain": [
       "1433"
      ]
     },
     "execution_count": 23,
     "metadata": {},
     "output_type": "execute_result"
    }
   ],
   "source": [
    "g.ndata['feat'].shape[1]"
   ]
  },
  {
   "cell_type": "markdown",
   "id": "8f3c30ce",
   "metadata": {},
   "source": [
    "DGL 提供了许多流行的相邻聚合模块的实现，可以用一行代码轻松调用它们"
   ]
  },
  {
   "cell_type": "markdown",
   "id": "bf500490",
   "metadata": {},
   "source": [
    "# 训练 GCN"
   ]
  },
  {
   "cell_type": "code",
   "execution_count": 24,
   "id": "e1eacec6",
   "metadata": {},
   "outputs": [],
   "source": [
    "def train(g, model):\n",
    "    optimizer = torch.optim.Adam(model.parameters(), lr=0.01)\n",
    "    best_val_acc = 0\n",
    "    best_test_acc = 0\n",
    "    \n",
    "    features = g.ndata['feat']\n",
    "    labels = g.ndata['label']\n",
    "    train_mask = g.ndata['train_mask']\n",
    "    val_mask = g.ndata['val_mask']\n",
    "    test_mask = g.ndata['test_mask']\n",
    "    \n",
    "    for e in range(100):\n",
    "        # forward\n",
    "        logits = model(g, features)\n",
    "        \n",
    "        # compute prediction\n",
    "        pred = logits.argmax(1)\n",
    "        \n",
    "        # compute loss\n",
    "        loss = F.cross_entropy(logits[train_mask], labels[train_mask])\n",
    "        \n",
    "        # compute accuracy\n",
    "        train_acc = (pred[train_mask] == labels[train_mask]).float().mean()\n",
    "        val_acc = (pred[val_mask] == labels[val_mask]).float().mean()\n",
    "        test_acc = (pred[test_mask] == labels[test_mask]).float().mean()\n",
    "        \n",
    "        # update best acc\n",
    "        if best_val_acc < val_acc:\n",
    "            best_val_acc = val_acc\n",
    "            best_test_acc = test_acc\n",
    "        \n",
    "        # backward\n",
    "        optimizer.zero_grad()\n",
    "        loss.backward()\n",
    "        optimizer.step()\n",
    "        \n",
    "        if e % 5 == 0:\n",
    "            print('In epoch {}, loss {:.3f}, val acc {:.3f} (best {:.3f}), test acc {:.3f} (best {:.3f})'\\\n",
    "                 .format(e, loss, val_acc, best_val_acc, test_acc, best_test_acc))"
   ]
  },
  {
   "cell_type": "code",
   "execution_count": 25,
   "id": "b8c4c5e0",
   "metadata": {},
   "outputs": [
    {
     "name": "stdout",
     "output_type": "stream",
     "text": [
      "In epoch 0, loss 1.946, val acc 0.114 (best 0.114), test acc 0.098 (best 0.098)\n",
      "In epoch 5, loss 1.891, val acc 0.552 (best 0.556), test acc 0.551 (best 0.565)\n",
      "In epoch 10, loss 1.807, val acc 0.628 (best 0.628), test acc 0.645 (best 0.645)\n",
      "In epoch 15, loss 1.700, val acc 0.668 (best 0.668), test acc 0.692 (best 0.692)\n",
      "In epoch 20, loss 1.568, val acc 0.676 (best 0.678), test acc 0.714 (best 0.711)\n",
      "In epoch 25, loss 1.416, val acc 0.702 (best 0.702), test acc 0.736 (best 0.736)\n",
      "In epoch 30, loss 1.249, val acc 0.720 (best 0.720), test acc 0.745 (best 0.745)\n",
      "In epoch 35, loss 1.076, val acc 0.738 (best 0.738), test acc 0.751 (best 0.746)\n",
      "In epoch 40, loss 0.905, val acc 0.748 (best 0.748), test acc 0.764 (best 0.761)\n",
      "In epoch 45, loss 0.746, val acc 0.748 (best 0.750), test acc 0.764 (best 0.764)\n",
      "In epoch 50, loss 0.606, val acc 0.752 (best 0.752), test acc 0.768 (best 0.764)\n",
      "In epoch 55, loss 0.487, val acc 0.758 (best 0.758), test acc 0.773 (best 0.773)\n",
      "In epoch 60, loss 0.391, val acc 0.758 (best 0.760), test acc 0.774 (best 0.776)\n",
      "In epoch 65, loss 0.315, val acc 0.762 (best 0.762), test acc 0.774 (best 0.773)\n",
      "In epoch 70, loss 0.255, val acc 0.772 (best 0.772), test acc 0.774 (best 0.774)\n",
      "In epoch 75, loss 0.208, val acc 0.770 (best 0.772), test acc 0.777 (best 0.774)\n",
      "In epoch 80, loss 0.172, val acc 0.774 (best 0.774), test acc 0.776 (best 0.776)\n",
      "In epoch 85, loss 0.144, val acc 0.774 (best 0.774), test acc 0.774 (best 0.776)\n",
      "In epoch 90, loss 0.121, val acc 0.772 (best 0.776), test acc 0.773 (best 0.774)\n",
      "In epoch 95, loss 0.103, val acc 0.770 (best 0.776), test acc 0.772 (best 0.774)\n"
     ]
    }
   ],
   "source": [
    "model = GCN(g.ndata['feat'].shape[1], 16, dataset.num_classes)\n",
    "train(g, model)"
   ]
  },
  {
   "cell_type": "markdown",
   "id": "b54a459f",
   "metadata": {},
   "source": [
    "## 分解"
   ]
  },
  {
   "cell_type": "code",
   "execution_count": 27,
   "id": "71dd62c8",
   "metadata": {},
   "outputs": [],
   "source": [
    "model = GCN(g.ndata['feat'].shape[1], 16, dataset.num_classes)"
   ]
  },
  {
   "cell_type": "code",
   "execution_count": 28,
   "id": "4b5aa963",
   "metadata": {},
   "outputs": [],
   "source": [
    "optimizer = torch.optim.Adam(model.parameters(), lr=0.01)\n",
    "\n",
    "features = g.ndata['feat']\n",
    "labels = g.ndata['label']\n",
    "train_mask = g.ndata['train_mask']\n",
    "val_mask = g.ndata['val_mask']\n",
    "test_mask = g.ndata['test_mask']"
   ]
  },
  {
   "cell_type": "code",
   "execution_count": 29,
   "id": "24660207",
   "metadata": {},
   "outputs": [
    {
     "data": {
      "text/plain": [
       "tensor([[ 0.0029,  0.0030, -0.0056,  ..., -0.0014,  0.0072, -0.0019],\n",
       "        [-0.0068,  0.0143, -0.0024,  ..., -0.0038, -0.0057, -0.0033],\n",
       "        [ 0.0008,  0.0058, -0.0058,  ...,  0.0030,  0.0054, -0.0086],\n",
       "        ...,\n",
       "        [ 0.0074,  0.0002,  0.0046,  ...,  0.0048,  0.0085, -0.0111],\n",
       "        [ 0.0048, -0.0012, -0.0050,  ...,  0.0037,  0.0051, -0.0023],\n",
       "        [ 0.0032,  0.0024, -0.0045,  ..., -0.0007,  0.0029, -0.0031]],\n",
       "       grad_fn=<AddBackward0>)"
      ]
     },
     "execution_count": 29,
     "metadata": {},
     "output_type": "execute_result"
    }
   ],
   "source": [
    "logits = model(g, features)\n",
    "logits"
   ]
  },
  {
   "cell_type": "code",
   "execution_count": 30,
   "id": "b95fcbf2",
   "metadata": {},
   "outputs": [
    {
     "data": {
      "text/plain": [
       "torch.Size([2708, 7])"
      ]
     },
     "execution_count": 30,
     "metadata": {},
     "output_type": "execute_result"
    }
   ],
   "source": [
    "logits.shape"
   ]
  },
  {
   "cell_type": "code",
   "execution_count": 31,
   "id": "eaaedce8",
   "metadata": {},
   "outputs": [
    {
     "data": {
      "text/plain": [
       "tensor([5, 1, 1,  ..., 5, 3, 3])"
      ]
     },
     "execution_count": 31,
     "metadata": {},
     "output_type": "execute_result"
    }
   ],
   "source": [
    "pred = logits.argmax(1)\n",
    "pred"
   ]
  },
  {
   "cell_type": "code",
   "execution_count": 32,
   "id": "d1ca30ba",
   "metadata": {},
   "outputs": [
    {
     "data": {
      "text/plain": [
       "torch.Size([2708])"
      ]
     },
     "execution_count": 32,
     "metadata": {},
     "output_type": "execute_result"
    }
   ],
   "source": [
    "pred.shape"
   ]
  },
  {
   "cell_type": "code",
   "execution_count": 33,
   "id": "95e6c757",
   "metadata": {},
   "outputs": [
    {
     "data": {
      "text/plain": [
       "tensor(1.9460, grad_fn=<NllLossBackward0>)"
      ]
     },
     "execution_count": 33,
     "metadata": {},
     "output_type": "execute_result"
    }
   ],
   "source": [
    "loss = F.cross_entropy(logits[train_mask], labels[train_mask])\n",
    "loss"
   ]
  },
  {
   "cell_type": "code",
   "execution_count": 34,
   "id": "c7c58823",
   "metadata": {},
   "outputs": [
    {
     "data": {
      "text/plain": [
       "tensor([False, False, False, False, False, False, False,  True, False, False,\n",
       "        False, False, False, False, False, False, False, False, False, False,\n",
       "        False, False,  True, False, False, False, False, False, False, False,\n",
       "        False, False,  True, False, False, False, False, False,  True,  True,\n",
       "         True, False, False, False, False, False, False, False, False, False,\n",
       "        False, False, False, False,  True, False, False, False, False, False,\n",
       "        False, False, False, False, False, False, False, False, False, False,\n",
       "        False, False, False, False, False, False, False, False, False, False,\n",
       "        False, False, False, False, False, False, False, False, False, False,\n",
       "        False, False, False, False, False, False, False, False, False, False,\n",
       "        False, False,  True, False, False, False, False, False, False,  True,\n",
       "        False, False, False, False, False, False, False, False, False, False,\n",
       "        False,  True, False, False,  True, False,  True,  True, False, False,\n",
       "         True, False,  True,  True, False,  True, False, False, False, False])"
      ]
     },
     "execution_count": 34,
     "metadata": {},
     "output_type": "execute_result"
    }
   ],
   "source": [
    "(pred[train_mask] == labels[train_mask])"
   ]
  },
  {
   "cell_type": "code",
   "execution_count": 35,
   "id": "7e5b4bd6",
   "metadata": {},
   "outputs": [
    {
     "data": {
      "text/plain": [
       "tensor([0., 0., 0., 0., 0., 0., 0., 1., 0., 0., 0., 0., 0., 0., 0., 0., 0., 0.,\n",
       "        0., 0., 0., 0., 1., 0., 0., 0., 0., 0., 0., 0., 0., 0., 1., 0., 0., 0.,\n",
       "        0., 0., 1., 1., 1., 0., 0., 0., 0., 0., 0., 0., 0., 0., 0., 0., 0., 0.,\n",
       "        1., 0., 0., 0., 0., 0., 0., 0., 0., 0., 0., 0., 0., 0., 0., 0., 0., 0.,\n",
       "        0., 0., 0., 0., 0., 0., 0., 0., 0., 0., 0., 0., 0., 0., 0., 0., 0., 0.,\n",
       "        0., 0., 0., 0., 0., 0., 0., 0., 0., 0., 0., 0., 1., 0., 0., 0., 0., 0.,\n",
       "        0., 1., 0., 0., 0., 0., 0., 0., 0., 0., 0., 0., 0., 1., 0., 0., 1., 0.,\n",
       "        1., 1., 0., 0., 1., 0., 1., 1., 0., 1., 0., 0., 0., 0.])"
      ]
     },
     "execution_count": 35,
     "metadata": {},
     "output_type": "execute_result"
    }
   ],
   "source": [
    "(pred[train_mask] == labels[train_mask]).float()"
   ]
  },
  {
   "cell_type": "code",
   "execution_count": null,
   "id": "274fe7e6",
   "metadata": {},
   "outputs": [],
   "source": []
  }
 ],
 "metadata": {
  "kernelspec": {
   "display_name": "Python 3 (ipykernel)",
   "language": "python",
   "name": "python3"
  },
  "language_info": {
   "codemirror_mode": {
    "name": "ipython",
    "version": 3
   },
   "file_extension": ".py",
   "mimetype": "text/x-python",
   "name": "python",
   "nbconvert_exporter": "python",
   "pygments_lexer": "ipython3",
   "version": "3.9.18"
  }
 },
 "nbformat": 4,
 "nbformat_minor": 5
}
