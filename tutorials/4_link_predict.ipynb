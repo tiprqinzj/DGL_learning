{
 "cells": [
  {
   "cell_type": "markdown",
   "id": "86b3607a",
   "metadata": {},
   "source": [
    "# 使用 GNN 进行链接预测\n",
    "\n",
    "link prediction: 预测图中两个任意节点之间的边是否存在"
   ]
  },
  {
   "cell_type": "code",
   "execution_count": 1,
   "id": "d326451e",
   "metadata": {},
   "outputs": [],
   "source": [
    "import itertools\n",
    "import os\n",
    "os.environ['DGLBACKEND'] = 'pytorch'\n",
    "\n",
    "import dgl\n",
    "import dgl.data\n",
    "import numpy as np\n",
    "import scipy.sparse as sp\n",
    "import torch\n",
    "import torch.nn as nn\n",
    "import torch.nn.functional as F"
   ]
  },
  {
   "cell_type": "markdown",
   "id": "fbd92625",
   "metadata": {},
   "source": [
    "## Link prediction 概述\n",
    "\n",
    "许多应用，例如社交推荐、项目推荐、知识图等，都可以被视为链接预测，它预测两个特定节点之间是否具有边。  \n",
    "本教程展示的是，预测引用网络中，两篇论文之间是否存在引用关系。  \n",
    "本教程中，链接预测问题被转化为二分类问题：\n",
    " - 将图中的边视为 positive 样本\n",
    " - 对图中不存在的边采样，作为 negative 样本\n",
    " - 将阳性和阴性样本划分至训练集与测试集\n",
    " - 使用二分类指标如 AUC 评价模型"
   ]
  },
  {
   "cell_type": "markdown",
   "id": "1b74b32f",
   "metadata": {},
   "source": [
    "## 载入图和特征"
   ]
  },
  {
   "cell_type": "code",
   "execution_count": 2,
   "id": "bb619473",
   "metadata": {},
   "outputs": [
    {
     "name": "stdout",
     "output_type": "stream",
     "text": [
      "  NumNodes: 2708\n",
      "  NumEdges: 10556\n",
      "  NumFeats: 1433\n",
      "  NumClasses: 7\n",
      "  NumTrainingSamples: 140\n",
      "  NumValidationSamples: 500\n",
      "  NumTestSamples: 1000\n",
      "Done loading data from cached files.\n"
     ]
    },
    {
     "data": {
      "text/plain": [
       "Graph(num_nodes=2708, num_edges=10556,\n",
       "      ndata_schemes={'feat': Scheme(shape=(1433,), dtype=torch.float32), 'label': Scheme(shape=(), dtype=torch.int64), 'val_mask': Scheme(shape=(), dtype=torch.bool), 'test_mask': Scheme(shape=(), dtype=torch.bool), 'train_mask': Scheme(shape=(), dtype=torch.bool)}\n",
       "      edata_schemes={})"
      ]
     },
     "execution_count": 2,
     "metadata": {},
     "output_type": "execute_result"
    }
   ],
   "source": [
    "dataset = dgl.data.CoraGraphDataset()\n",
    "g = dataset[0]\n",
    "g"
   ]
  },
  {
   "cell_type": "markdown",
   "id": "04201fd7",
   "metadata": {},
   "source": [
    "## 准备训练集和测试集\n",
    "\n",
    "本教程中，随机选取 10% 的边作为测试集，其余组成训练集；对于负样本，样本数保持一致"
   ]
  },
  {
   "cell_type": "code",
   "execution_count": 3,
   "id": "0d964bdb",
   "metadata": {},
   "outputs": [
    {
     "data": {
      "text/plain": [
       "tensor([   0,    0,    0,  ..., 2707, 2707, 2707])"
      ]
     },
     "execution_count": 3,
     "metadata": {},
     "output_type": "execute_result"
    }
   ],
   "source": [
    "u, v = g.edges()\n",
    "\n",
    "u"
   ]
  },
  {
   "cell_type": "code",
   "execution_count": 4,
   "id": "1842f058",
   "metadata": {},
   "outputs": [
    {
     "data": {
      "text/plain": [
       "tensor([ 633, 1862, 2582,  ...,  598, 1473, 2706])"
      ]
     },
     "execution_count": 4,
     "metadata": {},
     "output_type": "execute_result"
    }
   ],
   "source": [
    "v"
   ]
  },
  {
   "cell_type": "code",
   "execution_count": 5,
   "id": "97b0ad52",
   "metadata": {},
   "outputs": [
    {
     "data": {
      "text/plain": [
       "array([4265, 6864, 3395, ..., 5679, 5080, 6790])"
      ]
     },
     "execution_count": 5,
     "metadata": {},
     "output_type": "execute_result"
    }
   ],
   "source": [
    "eids = np.arange(g.num_edges())\n",
    "eids = np.random.permutation(eids)\n",
    "eids"
   ]
  },
  {
   "cell_type": "code",
   "execution_count": 6,
   "id": "ae9a8fea",
   "metadata": {},
   "outputs": [
    {
     "name": "stdout",
     "output_type": "stream",
     "text": [
      "9501 1055\n"
     ]
    }
   ],
   "source": [
    "test_size = int(len(eids) * 0.1)\n",
    "train_size = g.num_edges() - test_size\n",
    "print(train_size, test_size)"
   ]
  },
  {
   "cell_type": "code",
   "execution_count": 7,
   "id": "a8dd335c",
   "metadata": {},
   "outputs": [],
   "source": [
    "test_pos_u, test_pos_v = u[eids[:test_size]], v[eids[:test_size]]\n",
    "train_pos_u, train_pos_v = u[eids[test_size:]], v[eids[test_size:]]"
   ]
  },
  {
   "cell_type": "code",
   "execution_count": 12,
   "id": "c544e547",
   "metadata": {},
   "outputs": [
    {
     "data": {
      "text/plain": [
       "<2708x2708 sparse matrix of type '<class 'numpy.float64'>'\n",
       "\twith 10556 stored elements in COOrdinate format>"
      ]
     },
     "execution_count": 12,
     "metadata": {},
     "output_type": "execute_result"
    }
   ],
   "source": [
    "# Find all negative edges and split them for training and testing\n",
    "adj = sp.coo_matrix((np.ones(len(u)), (u.numpy(), v.numpy())))\n",
    "adj"
   ]
  },
  {
   "cell_type": "code",
   "execution_count": 13,
   "id": "6595a84a",
   "metadata": {},
   "outputs": [
    {
     "data": {
      "text/plain": [
       "matrix([[0., 1., 1., ..., 1., 1., 1.],\n",
       "        [1., 0., 0., ..., 1., 1., 1.],\n",
       "        [1., 0., 0., ..., 1., 1., 1.],\n",
       "        ...,\n",
       "        [1., 1., 1., ..., 0., 1., 1.],\n",
       "        [1., 1., 1., ..., 1., 0., 0.],\n",
       "        [1., 1., 1., ..., 1., 0., 0.]])"
      ]
     },
     "execution_count": 13,
     "metadata": {},
     "output_type": "execute_result"
    }
   ],
   "source": [
    "adj_neg = 1 - adj.todense() - np.eye(g.num_nodes())\n",
    "adj_neg"
   ]
  },
  {
   "cell_type": "code",
   "execution_count": 16,
   "id": "01761b42",
   "metadata": {},
   "outputs": [
    {
     "data": {
      "text/plain": [
       "array([   0,    0,    0, ..., 2707, 2707, 2707])"
      ]
     },
     "execution_count": 16,
     "metadata": {},
     "output_type": "execute_result"
    }
   ],
   "source": [
    "neg_u, neg_v = np.where(adj_neg != 0)\n",
    "neg_u"
   ]
  },
  {
   "cell_type": "code",
   "execution_count": 17,
   "id": "27e14a73",
   "metadata": {},
   "outputs": [
    {
     "data": {
      "text/plain": [
       "(7320000,)"
      ]
     },
     "execution_count": 17,
     "metadata": {},
     "output_type": "execute_result"
    }
   ],
   "source": [
    "neg_u.shape"
   ]
  },
  {
   "cell_type": "code",
   "execution_count": 18,
   "id": "a13c35e1",
   "metadata": {},
   "outputs": [
    {
     "data": {
      "text/plain": [
       "array([4544370, 2721055,  682720, ..., 5945396,  509805, 7203401])"
      ]
     },
     "execution_count": 18,
     "metadata": {},
     "output_type": "execute_result"
    }
   ],
   "source": [
    "neg_eids = np.random.choice(len(neg_u), g.num_edges())\n",
    "neg_eids"
   ]
  },
  {
   "cell_type": "code",
   "execution_count": 19,
   "id": "f674914c",
   "metadata": {},
   "outputs": [
    {
     "data": {
      "text/plain": [
       "(10556,)"
      ]
     },
     "execution_count": 19,
     "metadata": {},
     "output_type": "execute_result"
    }
   ],
   "source": [
    "neg_eids.shape"
   ]
  },
  {
   "cell_type": "code",
   "execution_count": 20,
   "id": "64be1be0",
   "metadata": {},
   "outputs": [],
   "source": [
    "test_neg_u, test_neg_v = (\n",
    "    neg_u[neg_eids[:test_size]],\n",
    "    neg_v[neg_eids[:test_size]],\n",
    ")\n",
    "train_neg_u, train_neg_v = (\n",
    "    neg_u[neg_eids[test_size:]],\n",
    "    neg_v[neg_eids[test_size:]],\n",
    ")"
   ]
  },
  {
   "cell_type": "markdown",
   "id": "c4a77e59",
   "metadata": {},
   "source": [
    "训练时，应该删除在测试集中的边，这可以通过`dgl.remove_edges`实现  \n",
    "`dgl.remove_edges` 根据原始图创建子图"
   ]
  },
  {
   "cell_type": "code",
   "execution_count": 21,
   "id": "75e87360",
   "metadata": {},
   "outputs": [
    {
     "data": {
      "text/plain": [
       "Graph(num_nodes=2708, num_edges=9501,\n",
       "      ndata_schemes={'feat': Scheme(shape=(1433,), dtype=torch.float32), 'label': Scheme(shape=(), dtype=torch.int64), 'val_mask': Scheme(shape=(), dtype=torch.bool), 'test_mask': Scheme(shape=(), dtype=torch.bool), 'train_mask': Scheme(shape=(), dtype=torch.bool)}\n",
       "      edata_schemes={})"
      ]
     },
     "execution_count": 21,
     "metadata": {},
     "output_type": "execute_result"
    }
   ],
   "source": [
    "train_g = dgl.remove_edges(g, eids[:test_size])\n",
    "train_g"
   ]
  },
  {
   "cell_type": "markdown",
   "id": "1120f825",
   "metadata": {},
   "source": [
    "## Define a GraphSAGE model\n",
    "\n",
    " - This tutorial builds a model consisting of two GraphSAGE layers, each computes new node representations by averaging neighbor information.\n",
    " - DGL provides `dgl.nn.SAGEConv` that conveniently creates a GraphSAGE layer."
   ]
  },
  {
   "cell_type": "code",
   "execution_count": 30,
   "id": "80c66083",
   "metadata": {},
   "outputs": [],
   "source": [
    "from dgl.nn import SAGEConv\n",
    "\n",
    "class GraphSAGE(nn.Module):\n",
    "    def __init__(self, in_feats, h_feats):\n",
    "        super(GraphSAGE, self).__init__()\n",
    "        self.conv1 = SAGEConv(in_feats, h_feats, \"mean\")\n",
    "        self.conv2 = SAGEConv(h_feats, h_feats, \"mean\")\n",
    "    \n",
    "    def forward(self, g, in_feat):\n",
    "        h = self.conv1(g, in_feat)\n",
    "        h = F.relu(h)\n",
    "        h = self.conv2(g, h)\n",
    "        return h"
   ]
  },
  {
   "cell_type": "markdown",
   "id": "00ef88f8",
   "metadata": {},
   "source": [
    "The model then predicts the probability of existence of an edge by computing a score between the representations of both incident nodes with a function.（模型通过计算两个时间节点的表示之间的分数来预测边存在的概率）"
   ]
  },
  {
   "cell_type": "markdown",
   "id": "152efed7",
   "metadata": {},
   "source": [
    "## Positive graph, negative graph, and `apply_edges`\n",
    "\n",
    " - link prediction requires you to compute representation of *pairs of nodes*\n",
    " - DGL recommends you to treat the pairs of nodes as another graph.\n",
    " - In link prediction, you will have a *positive graph* consisting of all the positive examples as edges, and a *negative graph* consisting of all the negative examples.\n",
    " - The *positive graph* and the *negative graph* will contain the same set of nodes as the original graph."
   ]
  },
  {
   "cell_type": "code",
   "execution_count": 24,
   "id": "185d7502",
   "metadata": {},
   "outputs": [],
   "source": [
    "train_pos_g = dgl.graph((train_pos_u, train_pos_v), num_nodes=g.num_nodes())\n",
    "train_neg_g = dgl.graph((train_neg_u, train_neg_v), num_nodes=g.num_nodes())\n",
    "\n",
    "test_pos_g = dgl.graph((test_pos_u, test_pos_v), num_nodes=g.num_nodes())\n",
    "test_neg_g = dgl.graph((test_neg_u, test_neg_v), num_nodes=g.num_nodes())"
   ]
  },
  {
   "cell_type": "markdown",
   "id": "b819d990",
   "metadata": {},
   "source": [
    " - The benifit of treating the pairs of nodes as a graph is that you can use the `DGLGraph.apply_edges` method, which compute new edge features based on the incident nodes' features and the original edge features.\n",
    " - DGL provides a set of optimized builtin functions to compite new edge features based on the original node/edge features. E.g., `dgl.function.u_dot_v` "
   ]
  },
  {
   "cell_type": "code",
   "execution_count": 25,
   "id": "f0cc2f13",
   "metadata": {},
   "outputs": [],
   "source": [
    "import dgl.function as fn\n",
    "\n",
    "class DotPredictor(nn.Module):\n",
    "    def forward(self, g, h):\n",
    "        g.ndata['h'] = h\n",
    "        # compute a new edge feature named 'score' by a dot-product\n",
    "        # between the source node feature 'h' and the destination node feature 'h'.\n",
    "        g.apply_edges(fn.u_dot_v('h', 'h', 'score'))\n",
    "        # u_dot_v returns a 1-element vector for each edge so you need to squeeze it.\n",
    "        return g.edata['score'][:, 0]"
   ]
  },
  {
   "cell_type": "markdown",
   "id": "6f4535e1",
   "metadata": {},
   "source": [
    " - You can also write your own function if it is complex.\n",
    " - The following module produces a scalar score on each edge by concatenating the incident nodes' features and passing it to an MLP."
   ]
  },
  {
   "cell_type": "code",
   "execution_count": 26,
   "id": "6b806f7d",
   "metadata": {},
   "outputs": [],
   "source": [
    "class MLPPredictor(nn.Module):\n",
    "    pass"
   ]
  },
  {
   "cell_type": "markdown",
   "id": "e235c094",
   "metadata": {},
   "source": [
    "**Note**: The builtin functions are optimized for both speed and memory. We recommend using builtin functions whenever possible."
   ]
  },
  {
   "cell_type": "markdown",
   "id": "c512ee3f",
   "metadata": {},
   "source": [
    "## Training loop\n",
    "\n",
    " - The loss function is simply binary cross entropy loss.\n",
    " - The evaluation metric in this tutorial is AUC."
   ]
  },
  {
   "cell_type": "code",
   "execution_count": 31,
   "id": "f2d181c5",
   "metadata": {},
   "outputs": [],
   "source": [
    "model = GraphSAGE(train_g.ndata['feat'].shape[1], 16)\n",
    "pred = DotPredictor()\n",
    "\n",
    "def compute_loss(pos_score, neg_score):\n",
    "    scores = torch.cat([pos_score, neg_score])\n",
    "    labels = torch.cat(\n",
    "        [torch.ones(pos_score.shape[0]), torch.zeros(neg_score.shape[0])]\n",
    "    )\n",
    "    return F.binary_cross_entropy_with_logits(scores, labels)\n",
    "\n",
    "def compute_auc(pos_score, neg_score):\n",
    "    scores = torch.cat([pos_score, neg_score]).numpy()\n",
    "    labels = torch.cat(\n",
    "        [torch.ones(pos_score.shape[0]), torch.zeros(neg_score.shape[0])]\n",
    "    ).numpy()\n",
    "    return roc_auc_score(labels, scores)"
   ]
  },
  {
   "cell_type": "code",
   "execution_count": 32,
   "id": "707d5af1",
   "metadata": {},
   "outputs": [
    {
     "name": "stdout",
     "output_type": "stream",
     "text": [
      "In epoch 0, loss 0.711\n",
      "In epoch 5, loss 0.692\n",
      "In epoch 10, loss 0.681\n",
      "In epoch 15, loss 0.658\n",
      "In epoch 20, loss 0.621\n",
      "In epoch 25, loss 0.567\n",
      "In epoch 30, loss 0.525\n",
      "In epoch 35, loss 0.503\n",
      "In epoch 40, loss 0.482\n",
      "In epoch 45, loss 0.463\n",
      "In epoch 50, loss 0.448\n",
      "In epoch 55, loss 0.432\n",
      "In epoch 60, loss 0.416\n",
      "In epoch 65, loss 0.399\n",
      "In epoch 70, loss 0.382\n",
      "In epoch 75, loss 0.365\n",
      "In epoch 80, loss 0.350\n",
      "In epoch 85, loss 0.333\n",
      "In epoch 90, loss 0.317\n",
      "In epoch 95, loss 0.301\n"
     ]
    }
   ],
   "source": [
    "optimizer = torch.optim.Adam(\n",
    "    itertools.chain(model.parameters(), pred.parameters()), lr=0.01\n",
    ")\n",
    "\n",
    "all_logits = []\n",
    "for e in range(100):\n",
    "    # forward\n",
    "    h = model(train_g, train_g.ndata['feat'])\n",
    "    pos_score = pred(train_pos_g, h)\n",
    "    neg_score = pred(train_neg_g, h)\n",
    "    loss = compute_loss(pos_score, neg_score)\n",
    "    \n",
    "    # backward\n",
    "    optimizer.zero_grad()\n",
    "    loss.backward()\n",
    "    optimizer.step()\n",
    "    \n",
    "    if e % 5 == 0:\n",
    "        print('In epoch {}, loss {:.3f}'.format(e, loss))"
   ]
  },
  {
   "cell_type": "code",
   "execution_count": 33,
   "id": "b3ea468c",
   "metadata": {},
   "outputs": [],
   "source": [
    "from sklearn.metrics import roc_auc_score"
   ]
  },
  {
   "cell_type": "code",
   "execution_count": 34,
   "id": "e2e39086",
   "metadata": {},
   "outputs": [
    {
     "name": "stdout",
     "output_type": "stream",
     "text": [
      "AUC 0.8601504907796321\n"
     ]
    }
   ],
   "source": [
    "with torch.no_grad():\n",
    "    pos_score = pred(test_pos_g, h)\n",
    "    neg_score = pred(test_neg_g, h)\n",
    "    print('AUC {}'.format(compute_auc(pos_score, neg_score)))"
   ]
  },
  {
   "cell_type": "code",
   "execution_count": null,
   "id": "9a23b31f",
   "metadata": {},
   "outputs": [],
   "source": []
  }
 ],
 "metadata": {
  "kernelspec": {
   "display_name": "Python 3 (ipykernel)",
   "language": "python",
   "name": "python3"
  },
  "language_info": {
   "codemirror_mode": {
    "name": "ipython",
    "version": 3
   },
   "file_extension": ".py",
   "mimetype": "text/x-python",
   "name": "python",
   "nbconvert_exporter": "python",
   "pygments_lexer": "ipython3",
   "version": "3.9.18"
  }
 },
 "nbformat": 4,
 "nbformat_minor": 5
}
